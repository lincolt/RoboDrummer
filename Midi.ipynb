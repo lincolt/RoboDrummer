{
 "cells": [
  {
   "cell_type": "markdown",
   "metadata": {},
   "source": [
    "# Import "
   ]
  },
  {
   "cell_type": "code",
   "execution_count": 214,
   "metadata": {},
   "outputs": [],
   "source": [
    "import numpy as np\n",
    "import mido\n",
    "import midi_video\n",
    "from tqdm import tqdm_notebook as tqdm\n",
    "\n",
    "from matplotlib import pyplot as plt\n",
    "\n",
    "from pretty_midi import PrettyMIDI\n",
    "from pypianoroll import Track, Multitrack"
   ]
  },
  {
   "cell_type": "markdown",
   "metadata": {},
   "source": [
    "# Utils "
   ]
  },
  {
   "cell_type": "code",
   "execution_count": 7,
   "metadata": {},
   "outputs": [],
   "source": [
    "from mido import MidiFile, MidiTrack, Message\n",
    "\n",
    "num_notes = 96\n",
    "samples_per_measure = 96\n",
    "midi_path = './Despicable.mid'\n",
    "\n",
    "def midi_to_samples(fname):\n",
    "    has_time_sig = False\n",
    "    flag_warning = False\n",
    "    mid = MidiFile(fname)\n",
    "    ticks_per_beat = mid.ticks_per_beat\n",
    "    ticks_per_measure = 4 * ticks_per_beat\n",
    "\n",
    "    for i, track in enumerate(mid.tracks):\n",
    "        for msg in track:\n",
    "            if msg.type == 'time_signature':\n",
    "                print(msg.numerator)\n",
    "                new_tpm = msg.numerator * ticks_per_beat * 4 / msg.denominator\n",
    "                if has_time_sig and new_tpm != ticks_per_measure:\n",
    "                    flag_warning = True\n",
    "                ticks_per_measure = new_tpm\n",
    "                has_time_sig = True\n",
    "    if flag_warning:\n",
    "        print(\"  ^^^^^^ WARNING ^^^^^^\")\n",
    "        print(\"    \" + fname)\n",
    "        print(\"    Detected multiple distinct time signatures.\")\n",
    "        print(\"  ^^^^^^ WARNING ^^^^^^\")\n",
    "        return []\n",
    "    \n",
    "    all_notes = {}\n",
    "    for i, track in enumerate(mid.tracks):\n",
    "        abs_time = 0\n",
    "        for msg in track:\n",
    "            abs_time += msg.time\n",
    "            if msg.type == 'note_on':\n",
    "                if msg.velocity == 0:\n",
    "                    continue\n",
    "                note = msg.note - (128 - num_notes)/2\n",
    "                assert(note >= 0 and note < num_notes)\n",
    "                if note not in all_notes:\n",
    "                    all_notes[note] = []\n",
    "                else:\n",
    "                    single_note = all_notes[note][-1]\n",
    "                    if len(single_note) == 1:\n",
    "                        single_note.append(single_note[0] + 1)\n",
    "                all_notes[note].append([abs_time * samples_per_measure / ticks_per_measure])\n",
    "            elif msg.type == 'note_off':\n",
    "                if len(all_notes[note][-1]) != 1:\n",
    "                    continue\n",
    "                all_notes[note][-1].append(abs_time * samples_per_measure / ticks_per_measure)\n",
    "    for note in all_notes:\n",
    "        for start_end in all_notes[note]:\n",
    "            if len(start_end) == 1:\n",
    "                start_end.append(start_end[0] + 1)\n",
    "    samples = []\n",
    "    for note in all_notes:\n",
    "        for start, end in all_notes[note]:\n",
    "            sample_ix = start / samples_per_measure\n",
    "            while len(samples) <= sample_ix:\n",
    "                samples.append(np.zeros((samples_per_measure, num_notes), dtype=np.uint8))\n",
    "            sample = samples[sample_ix]\n",
    "            start_ix = start - sample_ix * samples_per_measure\n",
    "            if False:\n",
    "                end_ix = min(end - sample_ix * samples_per_measure, samples_per_measure)\n",
    "                while start_ix < end_ix:\n",
    "                    sample[start_ix, note] = 1\n",
    "                    start_ix += 1\n",
    "            else:\n",
    "                sample[start_ix, note] = 1\n",
    "    return samples\n",
    "\n",
    "def samples_to_midi(samples, fname, ticks_per_sample, thresh=0.5):\n",
    "    mid = MidiFile()\n",
    "    track = MidiTrack()\n",
    "    mid.tracks.append(track)\n",
    "    ticks_per_beat = mid.ticks_per_beat\n",
    "    ticks_per_measure = 4 * ticks_per_beat\n",
    "    ticks_per_sample = ticks_per_measure / samples_per_measure\n",
    "    abs_time = 0\n",
    "    last_time = 0\n",
    "    for sample in samples:\n",
    "        for y in xrange(sample.shape[0]):\n",
    "            abs_time += ticks_per_sample\n",
    "            for x in xrange(sample.shape[1]):\n",
    "                note = x + (128 - num_notes)/2\n",
    "                if sample[y,x] >= thresh and (y == 0 or sample[y-1,x] < thresh):\n",
    "                    delta_time = abs_time - last_time\n",
    "                    track.append(Message('note_on', note=note, velocity=127, time=delta_time))\n",
    "                    last_time = abs_time\n",
    "                if sample[y,x] >= thresh and (y == sample.shape[0]-1 or sample[y+1,x] < thresh):\n",
    "                    delta_time = abs_time - last_time\n",
    "                    track.append(Message('note_off', note=note, velocity=127, time=delta_time))\n",
    "                    last_time = abs_time\n",
    "    mid.save(fname)"
   ]
  },
  {
   "cell_type": "markdown",
   "metadata": {},
   "source": [
    "# Load Midi "
   ]
  },
  {
   "cell_type": "code",
   "execution_count": 71,
   "metadata": {},
   "outputs": [],
   "source": [
    "mid = mido.MidiFile('./Des.MID')"
   ]
  },
  {
   "cell_type": "code",
   "execution_count": 22,
   "metadata": {
    "scrolled": true
   },
   "outputs": [],
   "source": [
    "def midi_to_samples(fname):\n",
    "    mid = MidiFile(fname)\n",
    "    ticks_per_beat = mid.ticks_per_beat\n",
    "    \n",
    "    # delete\n",
    "    ticks_per_measure = 4 * ticks_per_beat\n",
    "\n",
    "    all_notes = {}\n",
    "    \n",
    "    for i, track in enumerate(mid.tracks):\n",
    "        abs_time = 0\n",
    "        for msg in track:\n",
    "            abs_time += msg.time\n",
    "#             print(msg)\n",
    "            if msg.type == 'note_on':\n",
    "                if msg.velocity == 0:\n",
    "                    print(\"zero vel wtf\", msg)\n",
    "                    continue\n",
    "                # Робить ноту нижче на 16 втф?\n",
    "                note = msg.note - (128 - num_notes)/2\n",
    "                assert(note >= 0 and note < num_notes)\n",
    "                \n",
    "                if note not in all_notes:\n",
    "                    all_notes[note] = []\n",
    "                else:\n",
    "                    single_note = all_notes[note][-1]\n",
    "                    if len(single_note) == 1:\n",
    "                        single_note.append(single_note[0] + 1)\n",
    "                all_notes[note].append([abs_time * samples_per_measure / ticks_per_measure])\n",
    "            elif msg.type == 'note_off':\n",
    "                if len(all_notes[note][-1]) != 1:\n",
    "                    continue\n",
    "                all_notes[note][-1].append(abs_time * samples_per_measure / ticks_per_measure)\n",
    "\n",
    "    for note in all_notes:\n",
    "        for start_end in all_notes[note]:\n",
    "            if len(start_end) == 1:\n",
    "                start_end.append(start_end[0] + 1)\n",
    "#     samples = []\n",
    "#     for note in all_notes:\n",
    "#         for start, end in all_notes[note]:\n",
    "#             sample_ix = start / samples_per_measure\n",
    "#             while len(samples) <= sample_ix:\n",
    "#                 samples.append(np.zeros((samples_per_measure, num_notes), dtype=np.uint8))\n",
    "#             sample = samples[sample_ix]\n",
    "#             start_ix = start - sample_ix * samples_per_measure\n",
    "#             if False:\n",
    "#                 end_ix = min(end - sample_ix * samples_per_measure, samples_per_measure)\n",
    "#                 while start_ix < end_ix:\n",
    "#                     sample[start_ix, note] = 1\n",
    "#                     start_ix += 1\n",
    "#             else:\n",
    "#                 sample[start_ix, note] = 1\n",
    "    return all_notes#samples\n",
    "\n",
    "mid = midi_to_samples(midi_path)"
   ]
  },
  {
   "cell_type": "code",
   "execution_count": 3,
   "metadata": {},
   "outputs": [],
   "source": [
    "mid = PrettyMIDI('./Des.MID')"
   ]
  },
  {
   "cell_type": "code",
   "execution_count": 4,
   "metadata": {},
   "outputs": [
    {
     "data": {
      "text/plain": [
       "0.0"
      ]
     },
     "execution_count": 4,
     "metadata": {},
     "output_type": "execute_result"
    }
   ],
   "source": [
    "np.max(mid.instruments[0].get_piano_roll())"
   ]
  },
  {
   "cell_type": "code",
   "execution_count": 285,
   "metadata": {
    "scrolled": true
   },
   "outputs": [
    {
     "data": {
      "image/png": "[encoded data removed]",
      "text/plain": [
       "<Figure size 576x288 with 1 Axes>"
      ]
     },
     "metadata": {
      "needs_background": "light"
     },
     "output_type": "display_data"
    }
   ],
   "source": [
    "import librosa.display\n",
    "import pretty_midi\n",
    "\n",
    "def plot_piano_roll(pm, start_pitch, end_pitch, fs=100):\n",
    "    # Use librosa's specshow function for displaying the piano roll\n",
    "    librosa.display.specshow(pm.pianoroll[start_pitch:end_pitch].T,\n",
    "                             hop_length=1, sr=fs, x_axis='time', y_axis='cqt_note',\n",
    "                             fmin=pretty_midi.note_number_to_hz(start_pitch))\n",
    "\n",
    "plt.figure(figsize=(8, 4))\n",
    "plot_piano_roll(track, 0, 128)"
   ]
  },
  {
   "cell_type": "code",
   "execution_count": 144,
   "metadata": {},
   "outputs": [
    {
     "data": {
      "text/plain": [
       "array([ 0, 72], dtype=uint8)"
      ]
     },
     "execution_count": 144,
     "metadata": {},
     "output_type": "execute_result"
    }
   ],
   "source": [
    "np.unique(track.pianoroll)"
   ]
  },
  {
   "cell_type": "code",
   "execution_count": 140,
   "metadata": {},
   "outputs": [
    {
     "data": {
      "text/plain": [
       "{36: 'Kick',\n",
       " 38: 'Snare Open Hit L',\n",
       " 43: 'Snare Shallow Hit',\n",
       " 45: 'Ride Pearl (double)',\n",
       " 46: 'Cymbal 1 (double)',\n",
       " 47: 'Cowbell - Mid Tom',\n",
       " 48: 'HH Pedal Closed',\n",
       " 49: 'HH Closed 1 Pearl',\n",
       " 50: 'HH Closed 1 Shaft',\n",
       " 51: 'HH Closed 2 Pearl',\n",
       " 52: 'HH Closed 2 Shaft',\n",
       " 55: 'HH Open B'}"
      ]
     },
     "execution_count": 140,
     "metadata": {},
     "output_type": "execute_result"
    }
   ],
   "source": [
    "def load_midi_map(file_path):\n",
    "    res = {}\n",
    "    with open(file_path, 'r') as f:\n",
    "        for line in f:\n",
    "            midi_id = re.search(r'\\d+', line).group(0)\n",
    "            drum_name = line.replace(midi_id, '').strip()\n",
    "            res[int(midi_id)] = drum_name\n",
    "    return res\n",
    "\n",
    "def note_gen(track):\n",
    "    for i in range(track.pianoroll.shape[0]):\n",
    "        notes = track.pianoroll[i]\n",
    "        hits = np.where(notes != 0)\n",
    "        if np.sum(notes) != 0:\n",
    "            yield i, hits\n",
    "\n",
    "def notes_used_in_track(track, midi_map=None):   \n",
    "    notes = np.hstack([note for _, note in note_gen(track)])\n",
    "    \n",
    "    if midi_map is None:\n",
    "        return np.unique(notes)\n",
    "    else:\n",
    "        res = {}\n",
    "        for i in np.unique(notes):\n",
    "            res[i] = midi_map[i]\n",
    "        return res\n",
    "\n",
    "midi_map = load_midi_map('./midi_map.txt')\n",
    "\n",
    "notes_used_in_track(track, midi_map)"
   ]
  },
  {
   "cell_type": "code",
   "execution_count": 139,
   "metadata": {
    "scrolled": true
   },
   "outputs": [
    {
     "name": "stdout",
     "output_type": "stream",
     "text": [
      "Note(start=15.600000, end=15.612500, pitch=47, velocity=100)\n",
      "Note(start=16.500000, end=16.512500, pitch=47, velocity=100)\n",
      "Note(start=45.750000, end=45.762500, pitch=47, velocity=100)\n",
      "Note(start=54.900000, end=54.912500, pitch=47, velocity=100)\n",
      "Note(start=55.050000, end=55.062500, pitch=47, velocity=100)\n",
      "Note(start=55.350000, end=55.362500, pitch=47, velocity=100)\n",
      "Note(start=75.450000, end=75.462500, pitch=47, velocity=100)\n",
      "Note(start=75.525000, end=75.537500, pitch=47, velocity=100)\n",
      "Note(start=75.900000, end=75.912500, pitch=47, velocity=100)\n",
      "Note(start=76.050000, end=76.062500, pitch=47, velocity=100)\n",
      "Note(start=76.650000, end=76.662500, pitch=47, velocity=100)\n",
      "Note(start=114.000000, end=114.012500, pitch=47, velocity=100)\n",
      "Note(start=114.150000, end=114.162500, pitch=47, velocity=100)\n",
      "Note(start=116.850000, end=116.862500, pitch=47, velocity=100)\n",
      "Note(start=117.750000, end=117.762500, pitch=47, velocity=100)\n",
      "Note(start=118.950000, end=118.962500, pitch=47, velocity=100)\n",
      "Note(start=126.150000, end=126.162500, pitch=47, velocity=100)\n",
      "Note(start=133.650000, end=133.662500, pitch=47, velocity=100)\n",
      "Note(start=148.650000, end=148.662500, pitch=47, velocity=100)\n",
      "Note(start=155.850000, end=155.862500, pitch=47, velocity=100)\n",
      "Note(start=166.650000, end=166.662500, pitch=47, velocity=100)\n",
      "Note(start=167.250000, end=167.262500, pitch=47, velocity=100)\n",
      "Note(start=199.500000, end=199.512500, pitch=47, velocity=100)\n",
      "Note(start=199.650000, end=199.662500, pitch=47, velocity=100)\n",
      "Note(start=201.300000, end=201.312500, pitch=47, velocity=100)\n",
      "Note(start=201.450000, end=201.462500, pitch=47, velocity=100)\n",
      "Note(start=223.500000, end=223.512500, pitch=47, velocity=100)\n",
      "Note(start=223.650000, end=223.662500, pitch=47, velocity=100)\n"
     ]
    }
   ],
   "source": [
    "pm = mid.to_pretty_midi()\n",
    "for note in pm.instruments[0].notes:\n",
    "    if note.pitch == 47:\n",
    "        print(note)"
   ]
  },
  {
   "cell_type": "code",
   "execution_count": 5,
   "metadata": {
    "scrolled": false
   },
   "outputs": [
    {
     "data": {
      "text/plain": [
       "(24, 80)"
      ]
     },
     "execution_count": 5,
     "metadata": {},
     "output_type": "execute_result"
    },
    {
     "data": {
      "image/png": "[encoded data removed]",
      "text/plain": [
       "<Figure size 432x288 with 1 Axes>"
      ]
     },
     "metadata": {
      "needs_background": "light"
     },
     "output_type": "display_data"
    }
   ],
   "source": [
    "mid = Multitrack('./Des.MID')\n",
    "\n",
    "track = mid.tracks[0]\n",
    "\n",
    "# track.clip(0, 10)\n",
    "\n",
    "track.plot()\n",
    "\n",
    "plt.ylim(24, 80)"
   ]
  },
  {
   "cell_type": "code",
   "execution_count": 145,
   "metadata": {},
   "outputs": [],
   "source": [
    "midi_path = './_drums_midis/Groove Monkee - MIDI Drum Loops/_test/Straight/150 DBeat 1 OH A.mid'\n",
    "mid = Multitrack(midi_path)"
   ]
  },
  {
   "cell_type": "code",
   "execution_count": 151,
   "metadata": {},
   "outputs": [
    {
     "data": {
      "text/plain": [
       "array([26, 36, 38, 57], dtype=int64)"
      ]
     },
     "execution_count": 151,
     "metadata": {},
     "output_type": "execute_result"
    }
   ],
   "source": [
    "notes_used_in_track(mid.tracks[0])"
   ]
  },
  {
   "cell_type": "code",
   "execution_count": 158,
   "metadata": {},
   "outputs": [
    {
     "data": {
      "text/plain": [
       "(0, 199)"
      ]
     },
     "execution_count": 158,
     "metadata": {},
     "output_type": "execute_result"
    },
    {
     "data": {
      "image/png": "[encoded data removed]",
      "text/plain": [
       "<Figure size 432x288 with 1 Axes>"
      ]
     },
     "metadata": {
      "needs_background": "light"
     },
     "output_type": "display_data"
    }
   ],
   "source": [
    "mid.tracks[0].plot()\n",
    "plt.ylim(12, 55)\n",
    "plt.xlim(0, 199)"
   ]
  },
  {
   "cell_type": "code",
   "execution_count": 180,
   "metadata": {
    "scrolled": true
   },
   "outputs": [],
   "source": [
    "import glob\n",
    "\n",
    "root_dir = './_drums_midis/Groove Monkee - MIDI Drum Loops/Groove.Monkee.Metal.1.MIDI.Drum.Loops.PC.MAC.SCD-BX8'\n",
    "\n",
    "def search_folder_for_file_format(folder_path, file_format=r'\\.rar$'):\n",
    "    res = []\n",
    "    for file in glob.iglob(folder_path + '**/*', recursive=True):\n",
    "        if re.search(file_format, file) is not None:\n",
    "            res.append(file)\n",
    "    return res\n",
    "\n",
    "rars = search_folder_for_file_format(root_dir)"
   ]
  },
  {
   "cell_type": "code",
   "execution_count": 183,
   "metadata": {},
   "outputs": [
    {
     "data": {
      "text/plain": [
       "['./_drums_midis/Groove Monkee - MIDI Drum Loops/Groove.Monkee.Metal.1.MIDI.Drum.Loops.PC.MAC.SCD-BX8\\\\tmp\\\\groove_monkee_metal_supplemental.zip']"
      ]
     },
     "execution_count": 183,
     "metadata": {},
     "output_type": "execute_result"
    }
   ],
   "source": [
    "from pyunpack import Archive\n",
    "import os\n",
    "\n",
    "arch = Archive(rars[0])\n",
    "\n",
    "tmp_path = os.path.join(root_dir, 'tmp')\n",
    "\n",
    "try:\n",
    "    os.mkdir(tmp_path)\n",
    "except FileExistsError:\n",
    "    pass\n",
    "\n",
    "arch.extractall(tmp_path)\n",
    "\n",
    "zips = search_folder_for_file_format(tmp_path, r'\\_supplemental.zip$')\n"
   ]
  },
  {
   "cell_type": "code",
   "execution_count": 215,
   "metadata": {},
   "outputs": [
    {
     "data": {
      "application/vnd.jupyter.widget-view+json": {
       "model_id": "e85a6b2bd78e4ad8921011515942abaf",
       "version_major": 2,
       "version_minor": 0
      },
      "text/plain": [
       "HBox(children=(IntProgress(value=1, bar_style='info', max=1), HTML(value='')))"
      ]
     },
     "metadata": {},
     "output_type": "display_data"
    },
    {
     "name": "stdout",
     "output_type": "stream",
     "text": [
      "\n"
     ]
    }
   ],
   "source": [
    "def load_midi_files(root_path):\n",
    "    res = []\n",
    "    # walk recursively over root_path\n",
    "    for file in tqdm(glob.iglob(root_path + '**/*', recursive=True)):\n",
    "        # find midi files(.mid)\n",
    "        if re.search(r'\\.mid$', file) is not None:\n",
    "            res.append(\n",
    "                dict(midi=Multitrack(file), file_path=file)\n",
    "            )\n",
    "    return res\n",
    "\n",
    "midis = load_midi_files('./_datasets/')"
   ]
  },
  {
   "cell_type": "code",
   "execution_count": 223,
   "metadata": {},
   "outputs": [],
   "source": [
    "for midi_mtrack in midis:\n",
    "    track = midi_mtrack['midi'].tracks[0]\n",
    "    file = midi_mtrack['file_path']\n",
    "    break"
   ]
  },
  {
   "cell_type": "code",
   "execution_count": 225,
   "metadata": {},
   "outputs": [
    {
     "data": {
      "text/plain": [
       "{36: 'Kick',\n",
       " 38: 'Snare Open Hit L',\n",
       " 45: 'Ride Pearl (double)',\n",
       " 58: 'HH Open Bell',\n",
       " 61: 'Ride Bell',\n",
       " 67: 'Tom 3'}"
      ]
     },
     "execution_count": 225,
     "metadata": {},
     "output_type": "execute_result"
    }
   ],
   "source": [
    "notes_used_in_track(track, midi_map)"
   ]
  },
  {
   "cell_type": "code",
   "execution_count": 250,
   "metadata": {},
   "outputs": [
    {
     "data": {
      "text/plain": [
       "(<Figure size 432x288 with 1 Axes>,\n",
       " <matplotlib.axes._subplots.AxesSubplot at 0x268effe86a0>)"
      ]
     },
     "execution_count": 250,
     "metadata": {},
     "output_type": "execute_result"
    },
    {
     "data": {
      "image/png": "[encoded data removed]",
      "text/plain": [
       "<Figure size 432x288 with 1 Axes>"
      ]
     },
     "metadata": {
      "needs_background": "light"
     },
     "output_type": "display_data"
    }
   ],
   "source": [
    "track.plot()"
   ]
  },
  {
   "cell_type": "code",
   "execution_count": 295,
   "metadata": {},
   "outputs": [],
   "source": [
    "def collapse_index_range(drum_ranges):\n",
    "    idx = []\n",
    "    for indecies in drum_ranges:\n",
    "        if len(indecies) == 1:\n",
    "            idx.append(indecies[0])\n",
    "        else:\n",
    "            idx += list(range(*indecies))\n",
    "    return idx\n",
    "\n",
    "def binarize_array(arr):\n",
    "    return (arr > 0) * 1\n",
    "\n",
    "def track_to_learn_seq(track, learning_map:'{key: {encoding=drum_range, decoding=drum}}'):\n",
    "    track.binarize()\n",
    "    track.trim_trailing_silence()\n",
    "    \n",
    "    seq = [0] * len(learning_map.keys())\n",
    "    for key, drum_ranges in learning_map.items():\n",
    "        idx = collapse_index_range(drum_ranges['encoding'])\n",
    "        pre_collapsed_drum_lines = track.pianoroll[:, idx]\n",
    "        collapsed_drum_lines = np.sum(pre_collapsed_drum_lines, axis=1)\n",
    "        collapsed_drum_lines = binarize_array(collapsed_drum_lines)\n",
    "        seq[key] = collapsed_drum_lines\n",
    "    \n",
    "    return np.array(seq)\n",
    "\n",
    "LEARNING_DRUM_MAP = {\n",
    "    0: dict(\n",
    "        encoding=[[36]], #kick\n",
    "        decoding=36,\n",
    "    ),\n",
    "    1:  dict(\n",
    "        encoding=[[37, 44]], # snares\n",
    "        decoding=38,\n",
    "    ),\n",
    "    2: dict(\n",
    "        encoding=[[47, 63], [75, 82]], # cymbals\n",
    "        decoding=54,\n",
    "    ),\n",
    "    3: dict(\n",
    "        encoding=[[65, 72]], # toms\n",
    "        decoding=65,\n",
    "    ),\n",
    "}\n",
    "        \n",
    "seq = track_to_learn_seq(track, LEARNING_DRUM_MAP)"
   ]
  },
  {
   "cell_type": "code",
   "execution_count": 316,
   "metadata": {},
   "outputs": [
    {
     "data": {
      "image/png": "[encoded data removed]",
      "text/plain": [
       "<Figure size 432x288 with 1 Axes>"
      ]
     },
     "metadata": {
      "needs_background": "light"
     },
     "output_type": "display_data"
    }
   ],
   "source": [
    "def learn_seq_to_midi(seq, learning_map):\n",
    "    res = np.zeros([seq.shape[1], 128])\n",
    "    seq = seq.T\n",
    "    \n",
    "    for drum_num, (coding, drum_coding) in zip(range(seq.shape[0]), learning_map.items()):\n",
    "        res[:, drum_coding['decoding']] = seq[:, drum_num]\n",
    "    \n",
    "    return res\n",
    "\n",
    "track = Track(pianoroll=learn_seq_to_midi(seq, LEARNING_DRUM_MAP), program=0, is_drum=True)\n",
    "plot_piano_roll(track, 0, track.pianoroll.shape[0])"
   ]
  }
 ],
 "metadata": {
  "kernelspec": {
   "display_name": "Python 3",
   "language": "python",
   "name": "python3"
  },
  "language_info": {
   "codemirror_mode": {
    "name": "ipython",
    "version": 3
   },
   "file_extension": ".py",
   "mimetype": "text/x-python",
   "name": "python",
   "nbconvert_exporter": "python",
   "pygments_lexer": "ipython3",
   "version": "3.6.6"
  },
  "toc": {
   "base_numbering": 1,
   "nav_menu": {},
   "number_sections": true,
   "sideBar": true,
   "skip_h1_title": false,
   "title_cell": "Table of Contents",
   "title_sidebar": "Contents",
   "toc_cell": false,
   "toc_position": {},
   "toc_section_display": true,
   "toc_window_display": false
  }
 },
 "nbformat": 4,
 "nbformat_minor": 2
}
