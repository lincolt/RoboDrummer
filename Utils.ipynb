{
 "cells": [
  {
   "cell_type": "markdown",
   "metadata": {},
   "source": [
    "# Import "
   ]
  },
  {
   "cell_type": "code",
   "execution_count": null,
   "metadata": {},
   "outputs": [],
   "source": [
    "import numpy as np\n",
    "import re\n",
    "import glob\n",
    "\n",
    "from matplotlib import pyplot as plt\n",
    "from tqdm import tqdm_notebook as tqdm\n",
    "from pypianoroll import Track, Multitrack\n",
    "from pypianoroll.plot import plot_track\n",
    "\n",
    "import librosa.display\n",
    "import pretty_midi"
   ]
  },
  {
   "cell_type": "markdown",
   "metadata": {},
   "source": [
    "# Utils "
   ]
  },
  {
   "cell_type": "code",
   "execution_count": 1,
   "metadata": {},
   "outputs": [],
   "source": [
    "LEARNING_DRUM_MAP = {\n",
    "    0: dict(\n",
    "        encoding=[[36]], #kick\n",
    "        decoding=36,\n",
    "    ),\n",
    "    1:  dict(\n",
    "        encoding=[[37, 44]], # snares\n",
    "        decoding=38,\n",
    "    ),\n",
    "    2: dict(\n",
    "        encoding=[[47, 63], [75, 82]], # cymbals\n",
    "        decoding=54,\n",
    "    ),\n",
    "    3: dict(\n",
    "        encoding=[[65, 72]], # toms\n",
    "        decoding=65,\n",
    "    ),\n",
    "}\n",
    "\n",
    "def note_gen(track):\n",
    "    \"\"\"\n",
    "    yields notes from the song\n",
    "    usage:\n",
    "        gen = note_gen(pypianoroll.Track)\n",
    "        next(gen)\n",
    "    \"\"\"\n",
    "    for i in range(track.pianoroll.shape[0]):\n",
    "        notes = track.pianoroll[i]\n",
    "        hits = np.where(notes != 0)\n",
    "        if np.sum(notes) != 0:\n",
    "            yield hits\n",
    "            \n",
    "def load_midi_map(file_path):\n",
    "    res = {}\n",
    "    with open(file_path, 'r') as f:\n",
    "        for line in f:\n",
    "            midi_id = re.search(r'\\d+', line).group(0)\n",
    "            drum_name = line.replace(midi_id, '').strip()\n",
    "            res[int(midi_id)] = drum_name\n",
    "    return res\n",
    "\n",
    "def search_folder_for_file_format(folder_path, file_format=r'\\.rar$'):\n",
    "    res = []\n",
    "    for file in glob.iglob(folder_path + '**/*', recursive=True):\n",
    "        if re.search(file_format, file) is not None:\n",
    "            res.append(file)\n",
    "    return res\n",
    "\n",
    "def load_midi_files(root_path):\n",
    "    res = []\n",
    "    # walk recursively over root_path\n",
    "    for file in tqdm(glob.iglob(root_path + '**/*', recursive=True)):\n",
    "        # find midi files(.mid)\n",
    "        if re.search(r'\\.mid$', file) is not None:\n",
    "            res.append(\n",
    "                dict(midi=Multitrack(file), file_path=file)\n",
    "            )\n",
    "    return res\n",
    "\n",
    "def collapse_index_range(drum_ranges):\n",
    "    idx = []\n",
    "    for indecies in drum_ranges:\n",
    "        if len(indecies) == 1:\n",
    "            idx.append(indecies[0])\n",
    "        else:\n",
    "            idx += list(range(*indecies))\n",
    "    return idx\n",
    "\n",
    "def binarize_array(arr):\n",
    "    return (arr > 0) * 1\n",
    "\n",
    "def track_to_learn_seq(track, learning_map:'{key: {encoding=drum_range, decoding=drum}}'):\n",
    "    track.binarize()\n",
    "    track.trim_trailing_silence()\n",
    "    \n",
    "    seq = [0] * len(learning_map.keys())\n",
    "    for key, drum_ranges in learning_map.items():\n",
    "        idx = collapse_index_range(drum_ranges['encoding'])\n",
    "        pre_collapsed_drum_lines = track.pianoroll[:, idx]\n",
    "        collapsed_drum_lines = np.sum(pre_collapsed_drum_lines, axis=1)\n",
    "        collapsed_drum_lines = binarize_array(collapsed_drum_lines)\n",
    "        seq[key] = collapsed_drum_lines\n",
    "    \n",
    "    return np.array(seq)\n",
    "\n",
    "def learn_seq_to_midi(seq, learning_map):\n",
    "    res = np.zeros([seq.shape[1], 128])\n",
    "    seq = seq.T\n",
    "    \n",
    "    for drum_num, (coding, drum_coding) in zip(range(seq.shape[0]), learning_map.items()):\n",
    "        res[:, drum_coding['decoding']] = seq[:, drum_num]\n",
    "    \n",
    "    return res\n",
    "\n",
    "def notes_used_in_track(track, midi_map=None):   \n",
    "    notes = np.hstack([note for note in note_gen(track)])\n",
    "    \n",
    "    if midi_map is None:\n",
    "        return np.unique(notes)\n",
    "    else:\n",
    "        res = {}\n",
    "        for i in np.unique(notes):\n",
    "            res[i] = midi_map[i]\n",
    "        return res\n",
    "    \n",
    "def plot_piano_roll(pm, start_pitch, end_pitch, fs=100):\n",
    "    # Use librosa's specshow function for displaying the piano roll\n",
    "    librosa.display.specshow(pm.pianoroll[start_pitch:end_pitch].T,\n",
    "                             hop_length=1, sr=fs, x_axis='time', y_axis='cqt_note',\n",
    "                             fmin=pretty_midi.note_number_to_hz(start_pitch))\n",
    "    \n",
    "def moving_window(seq, stride=1, window_len=96):\n",
    "    for time in range(0, seq.shape[1], stride):\n",
    "        yield seq[:, time:(time + window_len)]\n",
    "        \n",
    "def plot_learn_seq(seq, learning_map):\n",
    "    track = Track(pianoroll=learn_seq_to_midi(seq, learning_map), program=0, is_drum=True)\n",
    "    plot_piano_roll(track, 0, track.pianoroll.shape[0])"
   ]
  },
  {
   "cell_type": "code",
   "execution_count": null,
   "metadata": {
    "scrolled": true
   },
   "outputs": [],
   "source": [
    "midi_map = load_midi_map('./midi_map.txt')\n",
    "midi_map"
   ]
  },
  {
   "cell_type": "code",
   "execution_count": null,
   "metadata": {},
   "outputs": [],
   "source": [
    "midis = load_midi_files('./_datasets/')"
   ]
  },
  {
   "cell_type": "code",
   "execution_count": null,
   "metadata": {},
   "outputs": [],
   "source": [
    "for midi_mtrack in midis:\n",
    "    track = midi_mtrack['midi'].tracks[0]\n",
    "    file = midi_mtrack['file_path']\n",
    "    break"
   ]
  },
  {
   "cell_type": "code",
   "execution_count": null,
   "metadata": {},
   "outputs": [],
   "source": [
    "notes_used_in_track(track, midi_map)"
   ]
  },
  {
   "cell_type": "code",
   "execution_count": null,
   "metadata": {},
   "outputs": [],
   "source": [
    "track.plot()"
   ]
  },
  {
   "cell_type": "code",
   "execution_count": null,
   "metadata": {},
   "outputs": [],
   "source": [
    "plot_piano_roll(track, 0, track.pianoroll.shape[0])"
   ]
  },
  {
   "cell_type": "code",
   "execution_count": null,
   "metadata": {},
   "outputs": [],
   "source": [
    "seq = track_to_learn_seq(track, LEARNING_DRUM_MAP)"
   ]
  },
  {
   "cell_type": "code",
   "execution_count": null,
   "metadata": {},
   "outputs": [],
   "source": [
    "seq"
   ]
  },
  {
   "cell_type": "code",
   "execution_count": null,
   "metadata": {},
   "outputs": [],
   "source": [
    "track = Track(pianoroll=learn_seq_to_midi(seq, LEARNING_DRUM_MAP), program=0, is_drum=True)\n",
    "plot_piano_roll(track, 0, track.pianoroll.shape[0])"
   ]
  },
  {
   "cell_type": "code",
   "execution_count": null,
   "metadata": {},
   "outputs": [],
   "source": []
  }
 ],
 "metadata": {
  "kernelspec": {
   "display_name": "Python 3",
   "language": "python",
   "name": "python3"
  },
  "language_info": {
   "codemirror_mode": {
    "name": "ipython",
    "version": 3
   },
   "file_extension": ".py",
   "mimetype": "text/x-python",
   "name": "python",
   "nbconvert_exporter": "python",
   "pygments_lexer": "ipython3",
   "version": "3.6.6"
  },
  "toc": {
   "base_numbering": 1,
   "nav_menu": {},
   "number_sections": true,
   "sideBar": true,
   "skip_h1_title": false,
   "title_cell": "Table of Contents",
   "title_sidebar": "Contents",
   "toc_cell": false,
   "toc_position": {},
   "toc_section_display": true,
   "toc_window_display": false
  }
 },
 "nbformat": 4,
 "nbformat_minor": 2
}
