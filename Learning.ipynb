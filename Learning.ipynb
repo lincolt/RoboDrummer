{
 "cells": [
  {
   "cell_type": "markdown",
   "metadata": {},
   "source": [
    "# Import "
   ]
  },
  {
   "cell_type": "code",
   "execution_count": 1,
   "metadata": {},
   "outputs": [],
   "source": [
    "import numpy as np\n",
    "import re\n",
    "import glob\n",
    "import gc\n",
    "\n",
    "from matplotlib import pyplot as plt\n",
    "from tqdm import tqdm_notebook\n",
    "\n",
    "from pypianoroll import Track, Multitrack\n",
    "from pypianoroll.plot import plot_track\n",
    "\n",
    "from telegramBot import TelegramBot\n",
    "\n",
    "import librosa.display\n",
    "import pretty_midi"
   ]
  },
  {
   "cell_type": "markdown",
   "metadata": {},
   "source": [
    "# Utils "
   ]
  },
  {
   "cell_type": "code",
   "execution_count": 63,
   "metadata": {},
   "outputs": [],
   "source": [
    "LEARNING_DRUM_MAP = {\n",
    "    0: dict(\n",
    "        encoding=[[36]], #kick\n",
    "        decoding=36,\n",
    "    ),\n",
    "    1:  dict(\n",
    "        encoding=[[37, 44]], # snares\n",
    "        decoding=38,\n",
    "    ),\n",
    "    2: dict(\n",
    "        encoding=[[47, 63], [75, 82]], # cymbals\n",
    "        decoding=54,\n",
    "    ),\n",
    "    3: dict(\n",
    "        encoding=[[65, 72]], # toms\n",
    "        decoding=65,\n",
    "    ),\n",
    "}\n",
    "\n",
    "WINDOW_SIZE = 96\n",
    "\n",
    "def dummy(x):\n",
    "    return x\n",
    "\n",
    "def note_gen(track):\n",
    "    \"\"\"\n",
    "    yields notes from the song\n",
    "    usage:\n",
    "        gen = note_gen(pypianoroll.Track)\n",
    "        next(gen)\n",
    "    \"\"\"\n",
    "    for i in range(track.pianoroll.shape[0]):\n",
    "        notes = track.pianoroll[i]\n",
    "        hits = np.where(notes != 0)\n",
    "        if np.sum(notes) != 0:\n",
    "            yield hits\n",
    "            \n",
    "def load_midi_map(file_path):\n",
    "    res = {}\n",
    "    with open(file_path, 'r') as f:\n",
    "        for line in f:\n",
    "            midi_id = re.search(r'\\d+', line).group(0)\n",
    "            drum_name = line.replace(midi_id, '').strip()\n",
    "            res[int(midi_id)] = drum_name\n",
    "    return res\n",
    "\n",
    "def search_folder_for_file_format(folder_path, file_format=r'\\.rar$'):\n",
    "    res = []\n",
    "    for file in glob.iglob(folder_path + '**/*', recursive=True):\n",
    "        if re.search(file_format, file) is not None:\n",
    "            res.append(file)\n",
    "    return res\n",
    "\n",
    "def load_midi_files(root_path):\n",
    "    res = []\n",
    "    # walk recursively over root_path\n",
    "    for file in tqdm_notebook(glob.iglob(root_path + '**/*', recursive=True)):\n",
    "        # find midi files(.mid)\n",
    "        if re.search(r'\\.mid$', file) is not None:\n",
    "            res.append(\n",
    "                dict(midi=Multitrack(file), file_path=file)\n",
    "            )\n",
    "    return res\n",
    "\n",
    "def collapse_index_range(drum_ranges):\n",
    "    idx = []\n",
    "    for indecies in drum_ranges:\n",
    "        if len(indecies) == 1:\n",
    "            idx.append(indecies[0])\n",
    "        else:\n",
    "            idx += list(range(*indecies))\n",
    "    return idx\n",
    "\n",
    "def binarize_array(arr):\n",
    "    return (arr > 0) * 1\n",
    "\n",
    "def threshold_array(array, threshold=.5):\n",
    "    array[array <= threshold] = 0\n",
    "    return array\n",
    "\n",
    "def track_to_learn_seq(track, learning_map:'{key: {encoding=drum_range, decoding=drum}}'):\n",
    "    track.binarize()\n",
    "    track.trim_trailing_silence()\n",
    "    \n",
    "    seq = [0] * len(learning_map.keys())\n",
    "    for key, drum_ranges in learning_map.items():\n",
    "        idx = collapse_index_range(drum_ranges['encoding'])\n",
    "        pre_collapsed_drum_lines = track.pianoroll[:, idx]\n",
    "        collapsed_drum_lines = np.sum(pre_collapsed_drum_lines, axis=1)\n",
    "        collapsed_drum_lines = binarize_array(collapsed_drum_lines)\n",
    "        seq[key] = collapsed_drum_lines\n",
    "    \n",
    "    return np.array(seq)\n",
    "\n",
    "def learn_seq_to_midi(seq, learning_map, return_midi=True):\n",
    "    res = np.zeros([seq.shape[1], 128])\n",
    "    seq = seq.T\n",
    "    \n",
    "    for drum_num, (coding, drum_coding) in zip(range(seq.shape[0]), learning_map.items()):\n",
    "        res[:, drum_coding['decoding']] = seq[:, drum_num]\n",
    "    \n",
    "    if return_midi:\n",
    "        return Track(pianoroll=res, program=0, is_drum=True)\n",
    "    else:\n",
    "        return res\n",
    "\n",
    "def notes_used_in_track(track, midi_map=None):   \n",
    "    notes = np.hstack([note for note in note_gen(track)])\n",
    "    \n",
    "    if midi_map is None:\n",
    "        return np.unique(notes)\n",
    "    else:\n",
    "        res = {}\n",
    "        for i in np.unique(notes):\n",
    "            res[i] = midi_map[i]\n",
    "        return res\n",
    "    \n",
    "def plot_piano_roll(pm, start_pitch, end_pitch, fs=100):\n",
    "    # Use librosa's specshow function for displaying the piano roll\n",
    "    librosa.display.specshow(pm.pianoroll[start_pitch:end_pitch].T,\n",
    "                             hop_length=1, sr=fs, x_axis='time', y_axis='cqt_note',\n",
    "                             fmin=pretty_midi.note_number_to_hz(start_pitch))\n",
    "    \n",
    "def moving_window(seq, stride=1, window_len=WINDOW_SIZE):\n",
    "    for time in range(0, seq.shape[1], stride):\n",
    "        window = seq[:, time:(time + window_len)]\n",
    "        \n",
    "        if window.shape[1] < window_len:\n",
    "            window = np.pad(window, [(0, 0), (0, window_len -  window.shape[1])], mode='constant')\n",
    "            \n",
    "            yield window\n",
    "            break\n",
    "        else:\n",
    "            yield window\n",
    "\n",
    "def make_dataset(midis, stride=1, window_len=WINDOW_SIZE, stack_songs=True):\n",
    "    X = []\n",
    "    for midi in tqdm_notebook(midis):\n",
    "        track = midi['midi'].tracks[0]\n",
    "        seq = track_to_learn_seq(track, LEARNING_DRUM_MAP)\n",
    "        \n",
    "        song = []\n",
    "        for window in moving_window(seq=seq, stride=stride, window_len=window_len):\n",
    "            song.append(window)\n",
    "        \n",
    "        X.append(np.array(song))\n",
    "        \n",
    "    if stack_songs: X = np.vstack(X)\n",
    "        \n",
    "    return X, X\n",
    "        \n",
    "def plot_learn_seq(seq, learning_map):\n",
    "    track = Track(pianoroll=learn_seq_to_midi(seq, learning_map, return_midi=False), program=0, is_drum=True)\n",
    "    plot_piano_roll(track, 0, track.pianoroll.shape[0])\n",
    "    \n",
    "def plot_model_notebook(model):\n",
    "    from keras.utils import plot_model\n",
    "    from IPython.display import Image\n",
    "    plot_model(model)\n",
    "    display(Image(retina=True, filename='model.png'))\n",
    "    \n",
    "def get_decoder(model, decoder_shape, decoder_layer):\n",
    "    from keras.layers import Input\n",
    "    from keras.models import Model\n",
    "    \n",
    "    encoded_output = Input(shape=decoder_shape)\n",
    "\n",
    "    decoder = model.layers[decoder_layer](encoded_output)\n",
    "    if decoder_layer != - 1:\n",
    "        for layer in model.layers[decoder_layer + 1:]:\n",
    "            decoder = layer(decoder)\n",
    "\n",
    "    decoder = Model(inputs=encoded_output, outputs=decoder)\n",
    "    return decoder\n",
    "\n",
    "def build_intermediate_model(model, start_layer_index):\n",
    "    from keras.layers import Input\n",
    "    from keras.models import Model\n",
    "    \n",
    "    input_layer = model.layers[start_layer_index]\n",
    "    \n",
    "    inputs = Input(shape=input_layer.input_shape[1:])\n",
    "\n",
    "    new_model = model.layers[start_layer_index](inputs)\n",
    "    if start_layer_index != - 1:\n",
    "        for layer in model.layers[start_layer_index + 1:]:\n",
    "            new_model = layer(new_model)\n",
    "\n",
    "    new_model = Model(inputs=inputs, outputs=new_model)\n",
    "    return new_model\n",
    "\n",
    "def get_encoder(model, end_of_encoder):\n",
    "    from keras.models import Model\n",
    "    return Model(inputs=model.inputs, outputs=model.layers[end_of_encoder].output)\n",
    "\n",
    "def save_drum_track(track, name='generated.mid'):\n",
    "    Multitrack(tracks=[track]).write(name)\n",
    "    \n",
    "def drum_distribution(dataset:'(batch_size, drum_line, time_step)'):\n",
    "    return np.sum(dataset, axis=(0, 2)) / np.sum(dataset)\n",
    "\n",
    "def calc_midi_sparsity(dataset:'(batch_size, drum_line, time_step)', per_drum=False):\n",
    "    if per_drum:\n",
    "        inputs_per_sample = np.sum(dataset, axis=(2))\n",
    "        max_inputs = X.shape[2]\n",
    "        \n",
    "    else:\n",
    "        inputs_per_sample = np.sum(dataset, axis=(1, 2))\n",
    "        max_inputs = np.prod(X.shape[1:])\n",
    "        \n",
    "    return inputs_per_sample / max_inputs\n",
    "\n",
    "def plot_history(history, metrics=['loss']):\n",
    "    hist = history.history\n",
    "    \n",
    "    for metric in metrics:\n",
    "        legend = [metric, 'val_' + metric]\n",
    "        [plt.plot(hist[to_plot]) for to_plot in legend]\n",
    "        plt.legend(legend)\n",
    "        plt.show()\n",
    "        \n",
    "def now(format_=\"%Y-%m-%d %H:%M\"):\n",
    "    from datetime import datetime\n",
    "    return datetime.now().strftime(format_)\n",
    "\n",
    "def purge_directory(directory):\n",
    "    import shutil\n",
    "    import os\n",
    "    if directory[0] == '/':\n",
    "        raise Exception('check the dir boy')\n",
    "    try:\n",
    "        shutil.rmtree(directory)\n",
    "    except FileNotFoundError:\n",
    "        pass\n",
    "    \n",
    "    os.mkdir(directory)\n",
    "    \n",
    "def in_top_k(arr, k, return_values=False):\n",
    "    idx = np.argsort(arr)[-k:]\n",
    "    if return_values:\n",
    "        return np.array(arr)[idx]\n",
    "    else:\n",
    "        return idx\n",
    "    \n",
    "def smooth(scalars, weight):  # Weight between 0 and 1\n",
    "    last = scalars[0]  # First value in the plot (first timestep)\n",
    "    smoothed = list()\n",
    "    for point in scalars:\n",
    "        smoothed_val = last * weight + (1 - weight) * point  # Calculate smoothed value\n",
    "        smoothed.append(smoothed_val)                        # Save it\n",
    "        last = smoothed_val                                  # Anchor the last smoothed value\n",
    "\n",
    "    return smoothed\n",
    "\n",
    "def iter_per_epoch(size, batch_size):\n",
    "    return size // batch_size"
   ]
  },
  {
   "cell_type": "markdown",
   "metadata": {},
   "source": [
    "# Data Load "
   ]
  },
  {
   "cell_type": "code",
   "execution_count": 104,
   "metadata": {
    "scrolled": true
   },
   "outputs": [
    {
     "data": {
      "text/plain": [
       "{36: 'Kick',\n",
       " 37: 'Snare Rimshot L',\n",
       " 38: 'Snare Open Hit L',\n",
       " 39: 'Snare Rimshot R',\n",
       " 40: 'Snare Open Hit R',\n",
       " 41: 'Snare Shallow Rimshot',\n",
       " 42: 'Snare Side Stick',\n",
       " 43: 'Snare Shallow Hit',\n",
       " 44: 'Snare Rim Click',\n",
       " 45: 'Ride Pearl (double)',\n",
       " 46: 'Cymbal 1 (double)',\n",
       " 47: 'Cowbell - Mid Tom',\n",
       " 48: 'HH Pedal Closed',\n",
       " 49: 'HH Closed 1 Pearl',\n",
       " 50: 'HH Closed 1 Shaft',\n",
       " 51: 'HH Closed 2 Pearl',\n",
       " 52: 'HH Closed 2 Shaft',\n",
       " 53: 'HH Closed Bell',\n",
       " 54: 'HH Open A',\n",
       " 55: 'HH Open B',\n",
       " 56: 'HH Open C',\n",
       " 57: 'HH Open D',\n",
       " 58: 'HH Open Bell',\n",
       " 59: 'HH Pedal Open',\n",
       " 60: 'Ride Pearl',\n",
       " 61: 'Ride Bell',\n",
       " 62: 'Ride Shaft',\n",
       " 63: 'Ride Choke',\n",
       " 64: '',\n",
       " 65: 'Tom 4',\n",
       " 66: 'Tom 4 Rim',\n",
       " 67: 'Tom 3',\n",
       " 68: 'Tom 3 Rim',\n",
       " 69: 'Tom 2',\n",
       " 70: 'Tom 2 Rim',\n",
       " 71: 'Tom 1',\n",
       " 72: 'Tom 1 Rim',\n",
       " 73: '',\n",
       " 74: '',\n",
       " 75: 'Sticks',\n",
       " 76: '',\n",
       " 77: 'Cymbal 1',\n",
       " 78: 'Cymbal 1 Choke',\n",
       " 79: 'Cymbal 2',\n",
       " 80: 'Cymbal 2 Choke',\n",
       " 81: 'Cymbal 3',\n",
       " 82: 'Cymbal 3 Choke'}"
      ]
     },
     "execution_count": 104,
     "metadata": {},
     "output_type": "execute_result"
    }
   ],
   "source": [
    "midi_map = load_midi_map('./midi_map.txt')\n",
    "midi_map"
   ]
  },
  {
   "cell_type": "code",
   "execution_count": 6,
   "metadata": {},
   "outputs": [
    {
     "data": {
      "application/vnd.jupyter.widget-view+json": {
       "model_id": "03e09ee4b9a74bc0b8e5c44a68d46854",
       "version_major": 2,
       "version_minor": 0
      },
      "text/plain": [
       "HBox(children=(IntProgress(value=1, bar_style='info', max=1), HTML(value='')))"
      ]
     },
     "metadata": {},
     "output_type": "display_data"
    },
    {
     "name": "stdout",
     "output_type": "stream",
     "text": [
      "\n"
     ]
    }
   ],
   "source": [
    "midis = load_midi_files('./_datasets/')"
   ]
  },
  {
   "cell_type": "code",
   "execution_count": 102,
   "metadata": {},
   "outputs": [],
   "source": [
    "for midi_mtrack in midis:\n",
    "    track = midi_mtrack['midi'].tracks[0]\n",
    "    file = midi_mtrack['file_path']\n",
    "    break"
   ]
  },
  {
   "cell_type": "code",
   "execution_count": 105,
   "metadata": {},
   "outputs": [
    {
     "data": {
      "text/plain": [
       "{36: 'Kick',\n",
       " 38: 'Snare Open Hit L',\n",
       " 45: 'Ride Pearl (double)',\n",
       " 58: 'HH Open Bell',\n",
       " 61: 'Ride Bell',\n",
       " 67: 'Tom 3'}"
      ]
     },
     "execution_count": 105,
     "metadata": {},
     "output_type": "execute_result"
    }
   ],
   "source": [
    "notes_used_in_track(track, midi_map)"
   ]
  },
  {
   "cell_type": "code",
   "execution_count": 106,
   "metadata": {},
   "outputs": [
    {
     "data": {
      "text/plain": [
       "(<Figure size 432x288 with 1 Axes>,\n",
       " <matplotlib.axes._subplots.AxesSubplot at 0x25dc706c208>)"
      ]
     },
     "execution_count": 106,
     "metadata": {},
     "output_type": "execute_result"
    },
    {
     "data": {
      "image/png": "[encoded data removed]",
      "text/plain": [
       "<Figure size 432x288 with 1 Axes>"
      ]
     },
     "metadata": {
      "needs_background": "light"
     },
     "output_type": "display_data"
    }
   ],
   "source": [
    "track.plot()"
   ]
  },
  {
   "cell_type": "code",
   "execution_count": 107,
   "metadata": {},
   "outputs": [
    {
     "data": {
      "image/png": "[encoded data removed]",
      "text/plain": [
       "<Figure size 432x288 with 1 Axes>"
      ]
     },
     "metadata": {
      "needs_background": "light"
     },
     "output_type": "display_data"
    }
   ],
   "source": [
    "plot_piano_roll(track, 0, track.pianoroll.shape[0])"
   ]
  },
  {
   "cell_type": "code",
   "execution_count": 108,
   "metadata": {},
   "outputs": [],
   "source": [
    "seq = track_to_learn_seq(track, LEARNING_DRUM_MAP)"
   ]
  },
  {
   "cell_type": "code",
   "execution_count": 109,
   "metadata": {},
   "outputs": [
    {
     "data": {
      "image/png": "[encoded data removed]",
      "text/plain": [
       "<Figure size 432x288 with 1 Axes>"
      ]
     },
     "metadata": {
      "needs_background": "light"
     },
     "output_type": "display_data"
    }
   ],
   "source": [
    "track = learn_seq_to_midi(seq, LEARNING_DRUM_MAP)\n",
    "plot_piano_roll(track, 0, track.pianoroll.shape[0])\n"
   ]
  },
  {
   "cell_type": "code",
   "execution_count": 12,
   "metadata": {},
   "outputs": [
    {
     "data": {
      "text/plain": [
       "(4, 766)"
      ]
     },
     "execution_count": 12,
     "metadata": {},
     "output_type": "execute_result"
    }
   ],
   "source": [
    "seq.shape"
   ]
  },
  {
   "cell_type": "markdown",
   "metadata": {},
   "source": [
    "## Make Dataset "
   ]
  },
  {
   "cell_type": "code",
   "execution_count": 4,
   "metadata": {},
   "outputs": [
    {
     "data": {
      "application/vnd.jupyter.widget-view+json": {
       "model_id": "30ece599fcb0484eab6c11b46f4d1e88",
       "version_major": 2,
       "version_minor": 0
      },
      "text/plain": [
       "HBox(children=(IntProgress(value=1, bar_style='info', max=1), HTML(value='')))"
      ]
     },
     "metadata": {},
     "output_type": "display_data"
    },
    {
     "name": "stdout",
     "output_type": "stream",
     "text": [
      "\n"
     ]
    },
    {
     "data": {
      "application/vnd.jupyter.widget-view+json": {
       "model_id": "e584e0aee1d24fc58301262ed4f9757a",
       "version_major": 2,
       "version_minor": 0
      },
      "text/plain": [
       "HBox(children=(IntProgress(value=0, max=2486), HTML(value='')))"
      ]
     },
     "metadata": {},
     "output_type": "display_data"
    },
    {
     "name": "stdout",
     "output_type": "stream",
     "text": [
      "\n"
     ]
    },
    {
     "data": {
      "text/plain": [
       "(1152777, 4, 96)"
      ]
     },
     "execution_count": 4,
     "metadata": {},
     "output_type": "execute_result"
    }
   ],
   "source": [
    "from sklearn.model_selection import train_test_split\n",
    "midis = load_midi_files('./_datasets/')\n",
    "\n",
    "X, Y = make_dataset(midis, stride=1)\n",
    "\n",
    "X_train, X_test, y_train, y_test = train_test_split(X, Y, test_size=.1, shuffle=True)\n",
    "\n",
    "X.shape"
   ]
  },
  {
   "cell_type": "markdown",
   "metadata": {},
   "source": [
    "## Make seq dataset"
   ]
  },
  {
   "cell_type": "code",
   "execution_count": 22,
   "metadata": {},
   "outputs": [
    {
     "data": {
      "application/vnd.jupyter.widget-view+json": {
       "model_id": "4e730a6f44714d25a2fb5f99a1e8c50a",
       "version_major": 2,
       "version_minor": 0
      },
      "text/plain": [
       "HBox(children=(IntProgress(value=1, bar_style='info', max=1), HTML(value='')))"
      ]
     },
     "metadata": {},
     "output_type": "display_data"
    },
    {
     "name": "stdout",
     "output_type": "stream",
     "text": [
      "\n"
     ]
    },
    {
     "data": {
      "application/vnd.jupyter.widget-view+json": {
       "model_id": "503c63d588614d65982f0f6d57eaa0e5",
       "version_major": 2,
       "version_minor": 0
      },
      "text/plain": [
       "HBox(children=(IntProgress(value=0, max=2486), HTML(value='')))"
      ]
     },
     "metadata": {},
     "output_type": "display_data"
    },
    {
     "name": "stdout",
     "output_type": "stream",
     "text": [
      "\n"
     ]
    },
    {
     "data": {
      "text/plain": [
       "(2486, 100, 4, 96)"
      ]
     },
     "execution_count": 22,
     "metadata": {},
     "output_type": "execute_result"
    }
   ],
   "source": [
    "from sklearn.model_selection import train_test_split\n",
    "from keras.preprocessing.sequence import pad_sequences\n",
    "\n",
    "midis = load_midi_files('./_datasets/')\n",
    "\n",
    "X, Y = make_dataset(midis, stride=96, stack_songs=False)\n",
    "\n",
    "seq_lengths = [x.shape[0] for x in X]\n",
    "maxlen = np.max(seq_lengths)\n",
    "\n",
    "X = pad_sequences(X, maxlen=maxlen, padding='post')\n",
    "Y = X\n",
    "\n",
    "X_train, X_test, y_train, y_test = train_test_split(X, Y, test_size=.1, shuffle=True)\n",
    "\n",
    "X.shape"
   ]
  },
  {
   "cell_type": "code",
   "execution_count": 45,
   "metadata": {},
   "outputs": [
    {
     "data": {
      "image/png": "[encoded data removed]",
      "text/plain": [
       "<Figure size 432x288 with 1 Axes>"
      ]
     },
     "metadata": {
      "needs_background": "light"
     },
     "output_type": "display_data"
    }
   ],
   "source": [
    "index = 2379\n",
    "plot_piano_roll(midis[index]['midi'].tracks[0], 0, midis[index]['midi'].tracks[0].pianoroll.shape[0])"
   ]
  },
  {
   "cell_type": "code",
   "execution_count": 30,
   "metadata": {},
   "outputs": [
    {
     "data": {
      "image/png": "[encoded data removed]",
      "text/plain": [
       "<Figure size 432x288 with 1 Axes>"
      ]
     },
     "metadata": {
      "needs_background": "light"
     },
     "output_type": "display_data"
    }
   ],
   "source": [
    "track = learn_seq_to_midi(np.hstack(X[0]), LEARNING_DRUM_MAP)\n",
    "plot_piano_roll(track, 0, track.pianoroll.shape[0])"
   ]
  },
  {
   "cell_type": "markdown",
   "metadata": {},
   "source": [
    "## Data analysis"
   ]
  },
  {
   "cell_type": "code",
   "execution_count": 69,
   "metadata": {},
   "outputs": [
    {
     "data": {
      "image/png": "[encoded data removed]",
      "text/plain": [
       "<Figure size 432x288 with 1 Axes>"
      ]
     },
     "metadata": {
      "needs_background": "light"
     },
     "output_type": "display_data"
    }
   ],
   "source": [
    "plt.hist(calc_midi_sparsity(X, False), bins=64);"
   ]
  },
  {
   "cell_type": "code",
   "execution_count": 73,
   "metadata": {},
   "outputs": [
    {
     "data": {
      "image/png": "[encoded data removed]",
      "text/plain": [
       "<Figure size 432x288 with 1 Axes>"
      ]
     },
     "metadata": {
      "needs_background": "light"
     },
     "output_type": "display_data"
    },
    {
     "data": {
      "image/png": "[encoded data removed]",
      "text/plain": [
       "<Figure size 432x288 with 1 Axes>"
      ]
     },
     "metadata": {
      "needs_background": "light"
     },
     "output_type": "display_data"
    },
    {
     "data": {
      "image/png": "[encoded data removed]",
      "text/plain": [
       "<Figure size 432x288 with 1 Axes>"
      ]
     },
     "metadata": {
      "needs_background": "light"
     },
     "output_type": "display_data"
    },
    {
     "data": {
      "image/png": "[encoded data removed]",
      "text/plain": [
       "<Figure size 432x288 with 1 Axes>"
      ]
     },
     "metadata": {
      "needs_background": "light"
     },
     "output_type": "display_data"
    }
   ],
   "source": [
    "sparcity_data = calc_midi_sparsity(X, True)\n",
    "\n",
    "for i in range(X.shape[1]):\n",
    "    plt.hist(sparcity_data[:, i], bins=32)\n",
    "    plt.title('Drum {}'.format(i))\n",
    "    plt.show()"
   ]
  },
  {
   "cell_type": "markdown",
   "metadata": {},
   "source": [
    "# AutoEncoder"
   ]
  },
  {
   "cell_type": "code",
   "execution_count": 281,
   "metadata": {
    "scrolled": true
   },
   "outputs": [
    {
     "name": "stdout",
     "output_type": "stream",
     "text": [
      "Using GPU\n",
      "Input shape: [4, 96]\n"
     ]
    },
    {
     "data": {
      "application/vnd.jupyter.widget-view+json": {
       "model_id": "08481d5d08b947bb934f09db1f0dc1de",
       "version_major": 2,
       "version_minor": 0
      },
      "text/plain": [
       "HBox(children=(IntProgress(value=0, description='Training', max=4, style=ProgressStyle(description_width='init…"
      ]
     },
     "metadata": {},
     "output_type": "display_data"
    },
    {
     "data": {
      "application/vnd.jupyter.widget-view+json": {
       "model_id": "",
       "version_major": 2,
       "version_minor": 0
      },
      "text/plain": [
       "HBox(children=(IntProgress(value=0, description='Epoch 0', max=737776, style=ProgressStyle(description_width='…"
      ]
     },
     "metadata": {},
     "output_type": "display_data"
    },
    {
     "data": {
      "application/vnd.jupyter.widget-view+json": {
       "model_id": "",
       "version_major": 2,
       "version_minor": 0
      },
      "text/plain": [
       "HBox(children=(IntProgress(value=0, description='Epoch 1', max=737776, style=ProgressStyle(description_width='…"
      ]
     },
     "metadata": {},
     "output_type": "display_data"
    },
    {
     "data": {
      "application/vnd.jupyter.widget-view+json": {
       "model_id": "",
       "version_major": 2,
       "version_minor": 0
      },
      "text/plain": [
       "HBox(children=(IntProgress(value=0, description='Epoch 2', max=737776, style=ProgressStyle(description_width='…"
      ]
     },
     "metadata": {},
     "output_type": "display_data"
    },
    {
     "data": {
      "application/vnd.jupyter.widget-view+json": {
       "model_id": "",
       "version_major": 2,
       "version_minor": 0
      },
      "text/plain": [
       "HBox(children=(IntProgress(value=0, description='Epoch 3', max=737776, style=ProgressStyle(description_width='…"
      ]
     },
     "metadata": {},
     "output_type": "display_data"
    },
    {
     "data": {
      "text/plain": [
       "[0.018723930468583946, 0.005053832035793008, 0.012021777450885313]"
      ]
     },
     "execution_count": 281,
     "metadata": {},
     "output_type": "execute_result"
    }
   ],
   "source": [
    "import keras.backend as K\n",
    "\n",
    "from keras.models import Sequential, Model\n",
    "from keras.layers import Input, Dense, TimeDistributed, Reshape, Permute, Flatten, Dropout\n",
    "from keras.optimizers import Adam\n",
    "from keras_tqdm import TQDMNotebookCallback\n",
    "from keras.utils import plot_model\n",
    "\n",
    "if len(K.tensorflow_backend._get_available_gpus()) > 0:\n",
    "    print('Using GPU')\n",
    "\n",
    "INPUT_SHAPE = [len(LEARNING_DRUM_MAP), WINDOW_SIZE]\n",
    "\n",
    "do_params = dict(\n",
    "    layer_1=.1,\n",
    "    layer_2=.05,\n",
    "    layer_3=.1\n",
    ")\n",
    "\n",
    "verbose = True\n",
    "\n",
    "if verbose: print('Input shape:', INPUT_SHAPE)\n",
    "    \n",
    "# model = Sequential([\n",
    "#     Flatten(input_shape=INPUT_SHAPE, name='flatten_input'),\n",
    "#     Dense(64, activation='relu', name='encoder_1'),\n",
    "#     Dense(32, activation='relu', name='encoder_2'),\n",
    "#     Dense(64, activation='relu', name='decoder'),\n",
    "#     Dense(np.product(INPUT_SHAPE), activation='sigmoid', name='flat_output'),\n",
    "#     Reshape(INPUT_SHAPE, name='output')\n",
    "# ])\n",
    "\n",
    "input_ = Input(shape=INPUT_SHAPE)\n",
    "flatten_input = Flatten(name='flatten_input')(input_)\n",
    "\n",
    "encoder_1 = Dense(256, activation='elu', name='encoder_1')(flatten_input)\n",
    "encoder_1 = Dropout(do_params['layer_1'])(encoder_1)\n",
    "    \n",
    "encoder_2 = Dense(128, activation='elu', name='encoder_2')(encoder_1)\n",
    "encoder_2 = Dropout(do_params['layer_2'])(encoder_2)\n",
    "    \n",
    "decoder_1 = Dense(256, activation='elu', name='decoder_1')(encoder_2)\n",
    "decoder_1 = Dropout(do_params['layer_3'])(decoder_1)\n",
    "\n",
    "flat_output = Dense(np.product(INPUT_SHAPE), activation='sigmoid', name='flat_output')(decoder_1)\n",
    "output = Reshape(INPUT_SHAPE, name='output')(flat_output)\n",
    "\n",
    "model = Model(inputs=input_, outputs=output)\n",
    "\n",
    "decoder = get_decoder(model, decoder_shape=(128,), decoder_layer=-4)\n",
    "\n",
    "model.compile(\n",
    "    optimizer=Adam(lr=0.01, decay=0.0001), # decay?\n",
    "    loss='binary_crossentropy',\n",
    "    metrics=['mse', 'mae']\n",
    ")\n",
    "\n",
    "history = model.fit(X_train, X_train, \n",
    "                    batch_size=128, epochs=4, \n",
    "                    validation_split=.2, \n",
    "                    verbose=0, callbacks=[TQDMNotebookCallback()])\n",
    "\n",
    "model.evaluate(X_test, y_test, verbose=0)"
   ]
  },
  {
   "cell_type": "markdown",
   "metadata": {},
   "source": [
    "## Saver"
   ]
  },
  {
   "cell_type": "code",
   "execution_count": 323,
   "metadata": {},
   "outputs": [],
   "source": [
    "from keras.models import save_model\n",
    "\n",
    "save_model(model, './models/wider_ae.mdl')"
   ]
  },
  {
   "cell_type": "markdown",
   "metadata": {},
   "source": [
    "# AutoEncoder w/ Conv"
   ]
  },
  {
   "cell_type": "code",
   "execution_count": 429,
   "metadata": {},
   "outputs": [
    {
     "name": "stdout",
     "output_type": "stream",
     "text": [
      "Using GPU\n",
      "Input shape: [4, 96]\n"
     ]
    },
    {
     "data": {
      "application/vnd.jupyter.widget-view+json": {
       "model_id": "45e14fd72ed74f5f9c2d4d1f5b3969a2",
       "version_major": 2,
       "version_minor": 0
      },
      "text/plain": [
       "HBox(children=(IntProgress(value=0, description='Training', max=4, style=ProgressStyle(description_width='init…"
      ]
     },
     "metadata": {},
     "output_type": "display_data"
    },
    {
     "data": {
      "application/vnd.jupyter.widget-view+json": {
       "model_id": "",
       "version_major": 2,
       "version_minor": 0
      },
      "text/plain": [
       "HBox(children=(IntProgress(value=0, description='Epoch 0', max=737776, style=ProgressStyle(description_width='…"
      ]
     },
     "metadata": {},
     "output_type": "display_data"
    },
    {
     "data": {
      "application/vnd.jupyter.widget-view+json": {
       "model_id": "",
       "version_major": 2,
       "version_minor": 0
      },
      "text/plain": [
       "HBox(children=(IntProgress(value=0, description='Epoch 1', max=737776, style=ProgressStyle(description_width='…"
      ]
     },
     "metadata": {},
     "output_type": "display_data"
    },
    {
     "data": {
      "application/vnd.jupyter.widget-view+json": {
       "model_id": "",
       "version_major": 2,
       "version_minor": 0
      },
      "text/plain": [
       "HBox(children=(IntProgress(value=0, description='Epoch 2', max=737776, style=ProgressStyle(description_width='…"
      ]
     },
     "metadata": {},
     "output_type": "display_data"
    },
    {
     "data": {
      "application/vnd.jupyter.widget-view+json": {
       "model_id": "",
       "version_major": 2,
       "version_minor": 0
      },
      "text/plain": [
       "HBox(children=(IntProgress(value=0, description='Epoch 3', max=737776, style=ProgressStyle(description_width='…"
      ]
     },
     "metadata": {},
     "output_type": "display_data"
    },
    {
     "data": {
      "text/plain": [
       "[0.01508150643113287, 0.003844890271543302, 0.01044061029664913]"
      ]
     },
     "execution_count": 429,
     "metadata": {},
     "output_type": "execute_result"
    }
   ],
   "source": [
    "import keras.backend as K\n",
    "\n",
    "from keras.models import Sequential, Model\n",
    "from keras.layers import Input, Dense, TimeDistributed, Reshape, Permute, Flatten, Dropout, Activation\n",
    "from keras.layers import Conv2D, MaxPool2D, BatchNormalization\n",
    "from keras.optimizers import Adam\n",
    "from keras_tqdm import TQDMNotebookCallback\n",
    "from keras.utils import plot_model\n",
    "\n",
    "if len(K.tensorflow_backend._get_available_gpus()) > 0:\n",
    "    print('Using GPU')\n",
    "\n",
    "INPUT_SHAPE = [len(LEARNING_DRUM_MAP), WINDOW_SIZE]\n",
    "\n",
    "do_params = dict(\n",
    "    layer_1=.1,\n",
    "    layer_2=.1,\n",
    "    layer_3=.1\n",
    ")\n",
    "\n",
    "verbose = True\n",
    "\n",
    "if verbose: print('Input shape:', INPUT_SHAPE)\n",
    "\n",
    "input_ = Input(shape=INPUT_SHAPE)\n",
    "add_channel = Reshape(target_shape=(*INPUT_SHAPE, 1))(input_)\n",
    "\n",
    "conv_1 = Conv2D(4, (4, 1), strides=(1, 1), padding='same', activation='relu')(add_channel)\n",
    "# bn_1 = BatchNormalization(momentum=.95)(conv_1)\n",
    "# conv_1 = Activation('relu')(bn_1)\n",
    "\n",
    "# max_pool_1 = MaxPool2D((2, 2), strides=(1, 1), padding='same')(conv_1)\n",
    "\n",
    "flatten_input = Flatten(name='flatten_input')(conv_1)\n",
    "\n",
    "encoder_1 = Dense(256, activation='elu', name='encoder_1')(flatten_input)\n",
    "encoder_1 = Dropout(do_params['layer_1'])(encoder_1)\n",
    "    \n",
    "encoder_2 = Dense(128, activation='elu', name='encoder_2')(encoder_1)\n",
    "encoder_2 = Dropout(do_params['layer_2'])(encoder_2)\n",
    "    \n",
    "decoder_1 = Dense(256, activation='elu', name='decoder_1')(encoder_2)\n",
    "decoder_1 = Dropout(do_params['layer_3'])(decoder_1)\n",
    "\n",
    "flat_output = Dense(np.product(INPUT_SHAPE), activation='sigmoid', name='flat_output')(decoder_1)\n",
    "output = Reshape(INPUT_SHAPE, name='output')(flat_output)\n",
    "\n",
    "model = Model(inputs=input_, outputs=output)\n",
    "\n",
    "decoder = get_decoder(model, decoder_shape=(128,), decoder_layer=-4)\n",
    "\n",
    "model.compile(\n",
    "    optimizer=Adam(lr=0.01, decay=10 ** -4), # decay?\n",
    "    loss='binary_crossentropy',\n",
    "    metrics=['mse', 'mae']\n",
    ")\n",
    "\n",
    "history = model.fit(X_train, X_train, \n",
    "                    batch_size=128, epochs=4, \n",
    "                    validation_split=.2, \n",
    "                    verbose=0, callbacks=[TQDMNotebookCallback()])\n",
    "\n",
    "model.evaluate(X_test, y_test, verbose=0)"
   ]
  },
  {
   "cell_type": "markdown",
   "metadata": {},
   "source": [
    "## Saver"
   ]
  },
  {
   "cell_type": "code",
   "execution_count": 433,
   "metadata": {},
   "outputs": [],
   "source": [
    "from keras.models import save_model, load_model\n",
    "\n",
    "save_model(model, './models/conv_ae_mse_0038_good_gen.mdl')"
   ]
  },
  {
   "cell_type": "markdown",
   "metadata": {},
   "source": [
    "# VAE"
   ]
  },
  {
   "cell_type": "code",
   "execution_count": 12,
   "metadata": {
    "scrolled": true
   },
   "outputs": [
    {
     "name": "stdout",
     "output_type": "stream",
     "text": [
      "Using GPU\n",
      "Input shape: [4, 96]\n"
     ]
    }
   ],
   "source": [
    "import keras.backend as K\n",
    "\n",
    "BATCH_SIZE = 256\n",
    "LATENT_SIZE = 128\n",
    "\n",
    "VAE_PARAM_1 = 1 # std\n",
    "VAE_PARAM_2 = .005 # KL regularization\n",
    "\n",
    "NAME = 'ConvVAE'\n",
    "\n",
    "from keras.models import Sequential, Model, load_model, save_model\n",
    "from keras.layers import Input, Dense, TimeDistributed, Reshape, Permute, Flatten, Dropout, Activation, Lambda\n",
    "from keras.layers import Conv2D, MaxPool2D, BatchNormalization\n",
    "from keras.optimizers import Adam\n",
    "from keras_tqdm import TQDMNotebookCallback\n",
    "from keras.callbacks import TensorBoard\n",
    "from keras.utils import plot_model\n",
    "from keras import objectives\n",
    "\n",
    "def sampling(args):\n",
    "    z_mean, z_log_var = args\n",
    "    shape = K.shape(z_mean)\n",
    "    epsilon = K.random_normal(shape=shape, mean=0, stddev=VAE_PARAM_1)\n",
    "    return z_mean + K.exp(.5 * z_log_var) * epsilon\n",
    "\n",
    "def vae_loss(y_true, y_pred):\n",
    "    recon = K.sum(objectives.binary_crossentropy(y_pred, y_true), axis=1)\n",
    "    kl = VAE_PARAM_2 * K.sum(K.exp(log_sigma) + K.square(mu) - 1. - log_sigma, axis=1)\n",
    "    return recon + kl\n",
    "\n",
    "if len(K.tensorflow_backend._get_available_gpus()) > 0:\n",
    "    print('Using GPU')\n",
    "\n",
    "INPUT_SHAPE = [len(LEARNING_DRUM_MAP), WINDOW_SIZE]\n",
    "\n",
    "do_params = dict(\n",
    "    layer_1=.2,\n",
    "    layer_2=.1,\n",
    "    layer_3=.2\n",
    ")\n",
    "\n",
    "general_params = dict(\n",
    "    kernel_initializer='he_normal',\n",
    ")\n",
    "\n",
    "verbose = True\n",
    "\n",
    "if verbose: print('Input shape:', INPUT_SHAPE)\n",
    "    \n",
    "K.clear_session()\n",
    "\n",
    "# Inputs\n",
    "input_ = Input(shape=INPUT_SHAPE)\n",
    "add_channel = Reshape(target_shape=(*INPUT_SHAPE, 1))(input_)\n",
    "\n",
    "# Conv Part\n",
    "conv_1 = Conv2D(16, (4, 1), strides=(1, 1), padding='same', name='conv_1', **general_params)(add_channel)\n",
    "# conv_1 = BatchNormalization(momentum=.95)(conv_1) # off\n",
    "conv_1 = Activation('elu')(conv_1)\n",
    "\n",
    "# max_pool_1 = MaxPool2D((2, 2), strides=(1, 1), padding='same')(conv_1)\n",
    "\n",
    "flatten_input = Flatten(name='flatten_input')(conv_1)\n",
    "\n",
    "encoder_1 = Dense(256, activation='elu', name='encoder_1', **general_params)(flatten_input)\n",
    "encoder_1 = Dropout(do_params['layer_1'])(encoder_1)\n",
    "\n",
    "## VAE part\n",
    "mu = Dense(LATENT_SIZE, activation='linear', **general_params)(encoder_1)\n",
    "log_sigma = Dense(LATENT_SIZE, activation='linear', **general_params)(encoder_1)\n",
    "\n",
    "# Sample z ~ Q(z|X)\n",
    "z = Lambda(sampling, output_shape=(LATENT_SIZE,))([mu, log_sigma])\n",
    "\n",
    "decoder = Sequential([\n",
    "    Dense(256, activation='elu', name='decoder_2', **general_params),\n",
    "    Dropout(do_params['layer_3']),\n",
    "    Dense(np.product(INPUT_SHAPE), activation='sigmoid', name='flat_output', **general_params),\n",
    "    Reshape(INPUT_SHAPE, name='output'),\n",
    "])\n",
    "\n",
    "output = decoder(z)\n",
    "\n",
    "model = Model(inputs=input_, outputs=output)\n",
    "\n",
    "model.compile(\n",
    "    optimizer=Adam(lr=0.001, decay=10 ** -5),\n",
    "    loss=vae_loss,\n",
    "    metrics=['mse', 'mae']\n",
    ")\n",
    "\n",
    "tb_log_dir = './tb_logs/{}/{}'.format(NAME, now(\"%Y-%m-%d %H_%M\"))\n",
    "\n",
    "callbacks = [\n",
    "    TQDMNotebookCallback(),\n",
    "    TensorBoard(log_dir=tb_log_dir),\n",
    "]\n",
    "\n",
    "history = model.fit(X_train, y_train, \n",
    "                    batch_size=BATCH_SIZE, epochs=16, \n",
    "                    validation_split=.1, shuffle=True,\n",
    "                    verbose=0, callbacks=callbacks)\n",
    "\n",
    "res = model.evaluate(X_test, y_test, verbose=0)\n",
    "\n",
    "msg = 'Done! Loss: {}, MSE: {}, MAE: {}'.format(*res)\n",
    "\n",
    "TelegramBot().send(msg)\n",
    "print(msg)"
   ]
  },
  {
   "cell_type": "code",
   "execution_count": 6,
   "metadata": {},
   "outputs": [
    {
     "data": {
      "image/png": "[encoded data removed]",
      "text/plain": [
       "<Figure size 432x288 with 1 Axes>"
      ]
     },
     "metadata": {
      "needs_background": "light"
     },
     "output_type": "display_data"
    },
    {
     "data": {
      "image/png": "[encoded data removed]",
      "text/plain": [
       "<Figure size 432x288 with 1 Axes>"
      ]
     },
     "metadata": {
      "needs_background": "light"
     },
     "output_type": "display_data"
    }
   ],
   "source": [
    "def plot_history(history, metrics=['loss', 'mean_absolute_error']):\n",
    "    hist = history.history\n",
    "    \n",
    "    for metric in metrics:\n",
    "        legend = [metric, 'val_' + metric]\n",
    "        [plt.plot(hist[to_plot]) for to_plot in legend]\n",
    "        plt.legend(legend)\n",
    "        plt.show()\n",
    "        \n",
    "plot_history(history)"
   ]
  },
  {
   "cell_type": "markdown",
   "metadata": {},
   "source": [
    "## Saver "
   ]
  },
  {
   "cell_type": "code",
   "execution_count": 24,
   "metadata": {},
   "outputs": [],
   "source": [
    "from keras.models import save_model, load_model\n",
    "\n",
    "save_model(model, './models/{}_mse_0155.mdl'.format(NAME))"
   ]
  },
  {
   "cell_type": "markdown",
   "metadata": {},
   "source": [
    "## Load "
   ]
  },
  {
   "cell_type": "code",
   "execution_count": 11,
   "metadata": {},
   "outputs": [
    {
     "ename": "NameError",
     "evalue": "name 'log_sigma' is not defined",
     "output_type": "error",
     "traceback": [
      "\u001b[1;31m---------------------------------------------------------------------------\u001b[0m",
      "\u001b[1;31mNameError\u001b[0m                                 Traceback (most recent call last)",
      "\u001b[1;32m<ipython-input-11-95a8620cea43>\u001b[0m in \u001b[0;36m<module>\u001b[1;34m()\u001b[0m\n\u001b[0;32m     10\u001b[0m     \u001b[1;32mreturn\u001b[0m \u001b[0mrecon\u001b[0m \u001b[1;33m+\u001b[0m \u001b[0mkl\u001b[0m\u001b[1;33m\u001b[0m\u001b[0m\n\u001b[0;32m     11\u001b[0m \u001b[1;33m\u001b[0m\u001b[0m\n\u001b[1;32m---> 12\u001b[1;33m \u001b[0mmodel\u001b[0m \u001b[1;33m=\u001b[0m \u001b[0mload_model\u001b[0m\u001b[1;33m(\u001b[0m\u001b[1;34m'./models/conv_vae_one_var_mse_0155.mdl'\u001b[0m\u001b[1;33m,\u001b[0m \u001b[0mcustom_objects\u001b[0m\u001b[1;33m=\u001b[0m\u001b[0mdict\u001b[0m\u001b[1;33m(\u001b[0m\u001b[0mVAE_PARAM_1\u001b[0m\u001b[1;33m=\u001b[0m\u001b[1;36m1\u001b[0m\u001b[1;33m,\u001b[0m \u001b[0mvae_loss\u001b[0m\u001b[1;33m=\u001b[0m\u001b[0mvae_loss\u001b[0m\u001b[1;33m)\u001b[0m\u001b[1;33m)\u001b[0m\u001b[1;33m\u001b[0m\u001b[0m\n\u001b[0m\u001b[0;32m     13\u001b[0m \u001b[1;33m\u001b[0m\u001b[0m\n\u001b[0;32m     14\u001b[0m \u001b[0mdecoder\u001b[0m \u001b[1;33m=\u001b[0m \u001b[0mget_decoder\u001b[0m\u001b[1;33m(\u001b[0m\u001b[0mmodel\u001b[0m\u001b[1;33m,\u001b[0m \u001b[0mdecoder_shape\u001b[0m\u001b[1;33m=\u001b[0m\u001b[1;33m(\u001b[0m\u001b[1;36m256\u001b[0m\u001b[1;33m,\u001b[0m\u001b[1;33m)\u001b[0m\u001b[1;33m,\u001b[0m \u001b[0mdecoder_layer\u001b[0m\u001b[1;33m=\u001b[0m\u001b[1;33m-\u001b[0m\u001b[1;36m4\u001b[0m\u001b[1;33m)\u001b[0m\u001b[1;33m\u001b[0m\u001b[0m\n",
      "\u001b[1;32mC:\\Anaconda3\\lib\\site-packages\\keras\\engine\\saving.py\u001b[0m in \u001b[0;36mload_model\u001b[1;34m(filepath, custom_objects, compile)\u001b[0m\n\u001b[0;32m    287\u001b[0m                           \u001b[0mmetrics\u001b[0m\u001b[1;33m=\u001b[0m\u001b[0mmetrics\u001b[0m\u001b[1;33m,\u001b[0m\u001b[1;33m\u001b[0m\u001b[0m\n\u001b[0;32m    288\u001b[0m                           \u001b[0mloss_weights\u001b[0m\u001b[1;33m=\u001b[0m\u001b[0mloss_weights\u001b[0m\u001b[1;33m,\u001b[0m\u001b[1;33m\u001b[0m\u001b[0m\n\u001b[1;32m--> 289\u001b[1;33m                           sample_weight_mode=sample_weight_mode)\n\u001b[0m\u001b[0;32m    290\u001b[0m \u001b[1;33m\u001b[0m\u001b[0m\n\u001b[0;32m    291\u001b[0m             \u001b[1;31m# Set optimizer weights.\u001b[0m\u001b[1;33m\u001b[0m\u001b[1;33m\u001b[0m\u001b[0m\n",
      "\u001b[1;32mC:\\Anaconda3\\lib\\site-packages\\keras\\engine\\training.py\u001b[0m in \u001b[0;36mcompile\u001b[1;34m(self, optimizer, loss, metrics, loss_weights, sample_weight_mode, weighted_metrics, target_tensors, **kwargs)\u001b[0m\n\u001b[0;32m    331\u001b[0m                 \u001b[1;32mwith\u001b[0m \u001b[0mK\u001b[0m\u001b[1;33m.\u001b[0m\u001b[0mname_scope\u001b[0m\u001b[1;33m(\u001b[0m\u001b[0mself\u001b[0m\u001b[1;33m.\u001b[0m\u001b[0moutput_names\u001b[0m\u001b[1;33m[\u001b[0m\u001b[0mi\u001b[0m\u001b[1;33m]\u001b[0m \u001b[1;33m+\u001b[0m \u001b[1;34m'_loss'\u001b[0m\u001b[1;33m)\u001b[0m\u001b[1;33m:\u001b[0m\u001b[1;33m\u001b[0m\u001b[0m\n\u001b[0;32m    332\u001b[0m                     output_loss = weighted_loss(y_true, y_pred,\n\u001b[1;32m--> 333\u001b[1;33m                                                 sample_weight, mask)\n\u001b[0m\u001b[0;32m    334\u001b[0m                 \u001b[1;32mif\u001b[0m \u001b[0mlen\u001b[0m\u001b[1;33m(\u001b[0m\u001b[0mself\u001b[0m\u001b[1;33m.\u001b[0m\u001b[0moutputs\u001b[0m\u001b[1;33m)\u001b[0m \u001b[1;33m>\u001b[0m \u001b[1;36m1\u001b[0m\u001b[1;33m:\u001b[0m\u001b[1;33m\u001b[0m\u001b[0m\n\u001b[0;32m    335\u001b[0m                     \u001b[0mself\u001b[0m\u001b[1;33m.\u001b[0m\u001b[0mmetrics_tensors\u001b[0m\u001b[1;33m.\u001b[0m\u001b[0mappend\u001b[0m\u001b[1;33m(\u001b[0m\u001b[0moutput_loss\u001b[0m\u001b[1;33m)\u001b[0m\u001b[1;33m\u001b[0m\u001b[0m\n",
      "\u001b[1;32mC:\\Anaconda3\\lib\\site-packages\\keras\\engine\\training_utils.py\u001b[0m in \u001b[0;36mweighted\u001b[1;34m(y_true, y_pred, weights, mask)\u001b[0m\n\u001b[0;32m    401\u001b[0m         \"\"\"\n\u001b[0;32m    402\u001b[0m         \u001b[1;31m# score_array has ndim >= 2\u001b[0m\u001b[1;33m\u001b[0m\u001b[1;33m\u001b[0m\u001b[0m\n\u001b[1;32m--> 403\u001b[1;33m         \u001b[0mscore_array\u001b[0m \u001b[1;33m=\u001b[0m \u001b[0mfn\u001b[0m\u001b[1;33m(\u001b[0m\u001b[0my_true\u001b[0m\u001b[1;33m,\u001b[0m \u001b[0my_pred\u001b[0m\u001b[1;33m)\u001b[0m\u001b[1;33m\u001b[0m\u001b[0m\n\u001b[0m\u001b[0;32m    404\u001b[0m         \u001b[1;32mif\u001b[0m \u001b[0mmask\u001b[0m \u001b[1;32mis\u001b[0m \u001b[1;32mnot\u001b[0m \u001b[1;32mNone\u001b[0m\u001b[1;33m:\u001b[0m\u001b[1;33m\u001b[0m\u001b[0m\n\u001b[0;32m    405\u001b[0m             \u001b[1;31m# Cast the mask to floatX to avoid float64 upcasting in Theano\u001b[0m\u001b[1;33m\u001b[0m\u001b[1;33m\u001b[0m\u001b[0m\n",
      "\u001b[1;32m<ipython-input-11-95a8620cea43>\u001b[0m in \u001b[0;36mvae_loss\u001b[1;34m(y_true, y_pred)\u001b[0m\n\u001b[0;32m      7\u001b[0m \u001b[1;32mdef\u001b[0m \u001b[0mvae_loss\u001b[0m\u001b[1;33m(\u001b[0m\u001b[0my_true\u001b[0m\u001b[1;33m,\u001b[0m \u001b[0my_pred\u001b[0m\u001b[1;33m)\u001b[0m\u001b[1;33m:\u001b[0m\u001b[1;33m\u001b[0m\u001b[0m\n\u001b[0;32m      8\u001b[0m     \u001b[0mrecon\u001b[0m \u001b[1;33m=\u001b[0m \u001b[0mK\u001b[0m\u001b[1;33m.\u001b[0m\u001b[0msum\u001b[0m\u001b[1;33m(\u001b[0m\u001b[0mobjectives\u001b[0m\u001b[1;33m.\u001b[0m\u001b[0mbinary_crossentropy\u001b[0m\u001b[1;33m(\u001b[0m\u001b[0my_pred\u001b[0m\u001b[1;33m,\u001b[0m \u001b[0my_true\u001b[0m\u001b[1;33m)\u001b[0m\u001b[1;33m,\u001b[0m \u001b[0maxis\u001b[0m\u001b[1;33m=\u001b[0m\u001b[1;36m1\u001b[0m\u001b[1;33m)\u001b[0m\u001b[1;33m\u001b[0m\u001b[0m\n\u001b[1;32m----> 9\u001b[1;33m     \u001b[0mkl\u001b[0m \u001b[1;33m=\u001b[0m \u001b[0mVAE_PARAM_2\u001b[0m \u001b[1;33m*\u001b[0m \u001b[0mK\u001b[0m\u001b[1;33m.\u001b[0m\u001b[0msum\u001b[0m\u001b[1;33m(\u001b[0m\u001b[0mK\u001b[0m\u001b[1;33m.\u001b[0m\u001b[0mexp\u001b[0m\u001b[1;33m(\u001b[0m\u001b[0mlog_sigma\u001b[0m\u001b[1;33m)\u001b[0m \u001b[1;33m+\u001b[0m \u001b[0mK\u001b[0m\u001b[1;33m.\u001b[0m\u001b[0msquare\u001b[0m\u001b[1;33m(\u001b[0m\u001b[0mmu\u001b[0m\u001b[1;33m)\u001b[0m \u001b[1;33m-\u001b[0m \u001b[1;36m1.\u001b[0m \u001b[1;33m-\u001b[0m \u001b[0mlog_sigma\u001b[0m\u001b[1;33m,\u001b[0m \u001b[0maxis\u001b[0m\u001b[1;33m=\u001b[0m\u001b[1;36m1\u001b[0m\u001b[1;33m)\u001b[0m\u001b[1;33m\u001b[0m\u001b[0m\n\u001b[0m\u001b[0;32m     10\u001b[0m     \u001b[1;32mreturn\u001b[0m \u001b[0mrecon\u001b[0m \u001b[1;33m+\u001b[0m \u001b[0mkl\u001b[0m\u001b[1;33m\u001b[0m\u001b[0m\n\u001b[0;32m     11\u001b[0m \u001b[1;33m\u001b[0m\u001b[0m\n",
      "\u001b[1;31mNameError\u001b[0m: name 'log_sigma' is not defined"
     ]
    }
   ],
   "source": [
    "from keras.models import load_model\n",
    "import keras.backend as K\n",
    "import keras.objectives as objectives\n",
    "\n",
    "VAE_PARAM_2 = .01\n",
    "\n",
    "def vae_loss(y_true, y_pred):\n",
    "    recon = K.sum(objectives.binary_crossentropy(y_pred, y_true), axis=1)\n",
    "    kl = VAE_PARAM_2 * K.sum(K.exp(log_sigma) + K.square(mu) - 1. - log_sigma, axis=1)\n",
    "    return recon + kl\n",
    "\n",
    "model = load_model('./models/conv_vae_one_var_mse_0155.mdl', custom_objects=dict(VAE_PARAM_1=1, vae_loss=vae_loss))"
   ]
  },
  {
   "cell_type": "markdown",
   "metadata": {},
   "source": [
    "# VAE w/ KLDivengence Layer"
   ]
  },
  {
   "cell_type": "code",
   "execution_count": 6,
   "metadata": {
    "scrolled": false
   },
   "outputs": [
    {
     "name": "stdout",
     "output_type": "stream",
     "text": [
      "Using GPU\n",
      "Input shape: [4, 96]\n"
     ]
    },
    {
     "data": {
      "application/vnd.jupyter.widget-view+json": {
       "model_id": "fd87ce5805f1441db77a0ce4acf5e86a",
       "version_major": 2,
       "version_minor": 0
      },
      "text/plain": [
       "HBox(children=(IntProgress(value=0, description='Training', max=128, style=ProgressStyle(description_width='in…"
      ]
     },
     "metadata": {},
     "output_type": "display_data"
    },
    {
     "data": {
      "application/vnd.jupyter.widget-view+json": {
       "model_id": "",
       "version_major": 2,
       "version_minor": 0
      },
      "text/plain": [
       "HBox(children=(IntProgress(value=0, description='Epoch 0', max=933749, style=ProgressStyle(description_width='…"
      ]
     },
     "metadata": {},
     "output_type": "display_data"
    },
    {
     "data": {
      "application/vnd.jupyter.widget-view+json": {
       "model_id": "b5749482ea094f0ab117518dba8f3e22",
       "version_major": 2,
       "version_minor": 0
      },
      "text/plain": [
       "HBox(children=(IntProgress(value=0, description='Epoch 1', max=933749, style=ProgressStyle(description_width='…"
      ]
     },
     "metadata": {},
     "output_type": "display_data"
    },
    {
     "ename": "KeyboardInterrupt",
     "evalue": "",
     "output_type": "error",
     "traceback": [
      "\u001b[1;31m---------------------------------------------------------------------------\u001b[0m",
      "\u001b[1;31mKeyboardInterrupt\u001b[0m                         Traceback (most recent call last)",
      "\u001b[1;32m<ipython-input-6-6c4b1dd210c8>\u001b[0m in \u001b[0;36m<module>\u001b[1;34m\u001b[0m\n\u001b[0;32m    108\u001b[0m                     \u001b[0mbatch_size\u001b[0m\u001b[1;33m=\u001b[0m\u001b[0mBATCH_SIZE\u001b[0m\u001b[1;33m,\u001b[0m \u001b[0mepochs\u001b[0m\u001b[1;33m=\u001b[0m\u001b[1;36m128\u001b[0m\u001b[1;33m,\u001b[0m\u001b[1;33m\u001b[0m\u001b[1;33m\u001b[0m\u001b[0m\n\u001b[0;32m    109\u001b[0m                     \u001b[0mvalidation_split\u001b[0m\u001b[1;33m=\u001b[0m\u001b[1;36m.1\u001b[0m\u001b[1;33m,\u001b[0m \u001b[0mshuffle\u001b[0m\u001b[1;33m=\u001b[0m\u001b[1;32mTrue\u001b[0m\u001b[1;33m,\u001b[0m\u001b[1;33m\u001b[0m\u001b[1;33m\u001b[0m\u001b[0m\n\u001b[1;32m--> 110\u001b[1;33m                     verbose=0, callbacks=callbacks)\n\u001b[0m\u001b[0;32m    111\u001b[0m \u001b[1;33m\u001b[0m\u001b[0m\n\u001b[0;32m    112\u001b[0m \u001b[0mres\u001b[0m \u001b[1;33m=\u001b[0m \u001b[0mmodel\u001b[0m\u001b[1;33m.\u001b[0m\u001b[0mevaluate\u001b[0m\u001b[1;33m(\u001b[0m\u001b[0mX_test\u001b[0m\u001b[1;33m,\u001b[0m \u001b[0my_test\u001b[0m\u001b[1;33m,\u001b[0m \u001b[0mverbose\u001b[0m\u001b[1;33m=\u001b[0m\u001b[1;36m0\u001b[0m\u001b[1;33m)\u001b[0m\u001b[1;33m\u001b[0m\u001b[1;33m\u001b[0m\u001b[0m\n",
      "\u001b[1;32mC:\\Anaconda3\\envs\\update_1\\lib\\site-packages\\keras\\engine\\training.py\u001b[0m in \u001b[0;36mfit\u001b[1;34m(self, x, y, batch_size, epochs, verbose, callbacks, validation_split, validation_data, shuffle, class_weight, sample_weight, initial_epoch, steps_per_epoch, validation_steps, **kwargs)\u001b[0m\n\u001b[0;32m   1037\u001b[0m                                         \u001b[0minitial_epoch\u001b[0m\u001b[1;33m=\u001b[0m\u001b[0minitial_epoch\u001b[0m\u001b[1;33m,\u001b[0m\u001b[1;33m\u001b[0m\u001b[1;33m\u001b[0m\u001b[0m\n\u001b[0;32m   1038\u001b[0m                                         \u001b[0msteps_per_epoch\u001b[0m\u001b[1;33m=\u001b[0m\u001b[0msteps_per_epoch\u001b[0m\u001b[1;33m,\u001b[0m\u001b[1;33m\u001b[0m\u001b[1;33m\u001b[0m\u001b[0m\n\u001b[1;32m-> 1039\u001b[1;33m                                         validation_steps=validation_steps)\n\u001b[0m\u001b[0;32m   1040\u001b[0m \u001b[1;33m\u001b[0m\u001b[0m\n\u001b[0;32m   1041\u001b[0m     def evaluate(self, x=None, y=None,\n",
      "\u001b[1;32mC:\\Anaconda3\\envs\\update_1\\lib\\site-packages\\keras\\engine\\training_arrays.py\u001b[0m in \u001b[0;36mfit_loop\u001b[1;34m(model, f, ins, out_labels, batch_size, epochs, verbose, callbacks, val_f, val_ins, shuffle, callback_metrics, initial_epoch, steps_per_epoch, validation_steps)\u001b[0m\n\u001b[0;32m    197\u001b[0m                     \u001b[0mins_batch\u001b[0m\u001b[1;33m[\u001b[0m\u001b[0mi\u001b[0m\u001b[1;33m]\u001b[0m \u001b[1;33m=\u001b[0m \u001b[0mins_batch\u001b[0m\u001b[1;33m[\u001b[0m\u001b[0mi\u001b[0m\u001b[1;33m]\u001b[0m\u001b[1;33m.\u001b[0m\u001b[0mtoarray\u001b[0m\u001b[1;33m(\u001b[0m\u001b[1;33m)\u001b[0m\u001b[1;33m\u001b[0m\u001b[1;33m\u001b[0m\u001b[0m\n\u001b[0;32m    198\u001b[0m \u001b[1;33m\u001b[0m\u001b[0m\n\u001b[1;32m--> 199\u001b[1;33m                 \u001b[0mouts\u001b[0m \u001b[1;33m=\u001b[0m \u001b[0mf\u001b[0m\u001b[1;33m(\u001b[0m\u001b[0mins_batch\u001b[0m\u001b[1;33m)\u001b[0m\u001b[1;33m\u001b[0m\u001b[1;33m\u001b[0m\u001b[0m\n\u001b[0m\u001b[0;32m    200\u001b[0m                 \u001b[0mouts\u001b[0m \u001b[1;33m=\u001b[0m \u001b[0mto_list\u001b[0m\u001b[1;33m(\u001b[0m\u001b[0mouts\u001b[0m\u001b[1;33m)\u001b[0m\u001b[1;33m\u001b[0m\u001b[1;33m\u001b[0m\u001b[0m\n\u001b[0;32m    201\u001b[0m                 \u001b[1;32mfor\u001b[0m \u001b[0ml\u001b[0m\u001b[1;33m,\u001b[0m \u001b[0mo\u001b[0m \u001b[1;32min\u001b[0m \u001b[0mzip\u001b[0m\u001b[1;33m(\u001b[0m\u001b[0mout_labels\u001b[0m\u001b[1;33m,\u001b[0m \u001b[0mouts\u001b[0m\u001b[1;33m)\u001b[0m\u001b[1;33m:\u001b[0m\u001b[1;33m\u001b[0m\u001b[1;33m\u001b[0m\u001b[0m\n",
      "\u001b[1;32mC:\\Anaconda3\\envs\\update_1\\lib\\site-packages\\keras\\backend\\tensorflow_backend.py\u001b[0m in \u001b[0;36m__call__\u001b[1;34m(self, inputs)\u001b[0m\n\u001b[0;32m   2713\u001b[0m                 \u001b[1;32mreturn\u001b[0m \u001b[0mself\u001b[0m\u001b[1;33m.\u001b[0m\u001b[0m_legacy_call\u001b[0m\u001b[1;33m(\u001b[0m\u001b[0minputs\u001b[0m\u001b[1;33m)\u001b[0m\u001b[1;33m\u001b[0m\u001b[1;33m\u001b[0m\u001b[0m\n\u001b[0;32m   2714\u001b[0m \u001b[1;33m\u001b[0m\u001b[0m\n\u001b[1;32m-> 2715\u001b[1;33m             \u001b[1;32mreturn\u001b[0m \u001b[0mself\u001b[0m\u001b[1;33m.\u001b[0m\u001b[0m_call\u001b[0m\u001b[1;33m(\u001b[0m\u001b[0minputs\u001b[0m\u001b[1;33m)\u001b[0m\u001b[1;33m\u001b[0m\u001b[1;33m\u001b[0m\u001b[0m\n\u001b[0m\u001b[0;32m   2716\u001b[0m         \u001b[1;32melse\u001b[0m\u001b[1;33m:\u001b[0m\u001b[1;33m\u001b[0m\u001b[1;33m\u001b[0m\u001b[0m\n\u001b[0;32m   2717\u001b[0m             \u001b[1;32mif\u001b[0m \u001b[0mpy_any\u001b[0m\u001b[1;33m(\u001b[0m\u001b[0mis_tensor\u001b[0m\u001b[1;33m(\u001b[0m\u001b[0mx\u001b[0m\u001b[1;33m)\u001b[0m \u001b[1;32mfor\u001b[0m \u001b[0mx\u001b[0m \u001b[1;32min\u001b[0m \u001b[0minputs\u001b[0m\u001b[1;33m)\u001b[0m\u001b[1;33m:\u001b[0m\u001b[1;33m\u001b[0m\u001b[1;33m\u001b[0m\u001b[0m\n",
      "\u001b[1;32mC:\\Anaconda3\\envs\\update_1\\lib\\site-packages\\keras\\backend\\tensorflow_backend.py\u001b[0m in \u001b[0;36m_call\u001b[1;34m(self, inputs)\u001b[0m\n\u001b[0;32m   2673\u001b[0m             \u001b[0mfetched\u001b[0m \u001b[1;33m=\u001b[0m \u001b[0mself\u001b[0m\u001b[1;33m.\u001b[0m\u001b[0m_callable_fn\u001b[0m\u001b[1;33m(\u001b[0m\u001b[1;33m*\u001b[0m\u001b[0marray_vals\u001b[0m\u001b[1;33m,\u001b[0m \u001b[0mrun_metadata\u001b[0m\u001b[1;33m=\u001b[0m\u001b[0mself\u001b[0m\u001b[1;33m.\u001b[0m\u001b[0mrun_metadata\u001b[0m\u001b[1;33m)\u001b[0m\u001b[1;33m\u001b[0m\u001b[1;33m\u001b[0m\u001b[0m\n\u001b[0;32m   2674\u001b[0m         \u001b[1;32melse\u001b[0m\u001b[1;33m:\u001b[0m\u001b[1;33m\u001b[0m\u001b[1;33m\u001b[0m\u001b[0m\n\u001b[1;32m-> 2675\u001b[1;33m             \u001b[0mfetched\u001b[0m \u001b[1;33m=\u001b[0m \u001b[0mself\u001b[0m\u001b[1;33m.\u001b[0m\u001b[0m_callable_fn\u001b[0m\u001b[1;33m(\u001b[0m\u001b[1;33m*\u001b[0m\u001b[0marray_vals\u001b[0m\u001b[1;33m)\u001b[0m\u001b[1;33m\u001b[0m\u001b[1;33m\u001b[0m\u001b[0m\n\u001b[0m\u001b[0;32m   2676\u001b[0m         \u001b[1;32mreturn\u001b[0m \u001b[0mfetched\u001b[0m\u001b[1;33m[\u001b[0m\u001b[1;33m:\u001b[0m\u001b[0mlen\u001b[0m\u001b[1;33m(\u001b[0m\u001b[0mself\u001b[0m\u001b[1;33m.\u001b[0m\u001b[0moutputs\u001b[0m\u001b[1;33m)\u001b[0m\u001b[1;33m]\u001b[0m\u001b[1;33m\u001b[0m\u001b[1;33m\u001b[0m\u001b[0m\n\u001b[0;32m   2677\u001b[0m \u001b[1;33m\u001b[0m\u001b[0m\n",
      "\u001b[1;32mC:\\Anaconda3\\envs\\update_1\\lib\\site-packages\\tensorflow\\python\\client\\session.py\u001b[0m in \u001b[0;36m__call__\u001b[1;34m(self, *args)\u001b[0m\n\u001b[0;32m   1449\u001b[0m         \u001b[1;32mif\u001b[0m \u001b[0mself\u001b[0m\u001b[1;33m.\u001b[0m\u001b[0m_session\u001b[0m\u001b[1;33m.\u001b[0m\u001b[0m_created_with_new_api\u001b[0m\u001b[1;33m:\u001b[0m\u001b[1;33m\u001b[0m\u001b[1;33m\u001b[0m\u001b[0m\n\u001b[0;32m   1450\u001b[0m           return tf_session.TF_SessionRunCallable(\n\u001b[1;32m-> 1451\u001b[1;33m               self._session._session, self._handle, args, status, None)\n\u001b[0m\u001b[0;32m   1452\u001b[0m         \u001b[1;32melse\u001b[0m\u001b[1;33m:\u001b[0m\u001b[1;33m\u001b[0m\u001b[1;33m\u001b[0m\u001b[0m\n\u001b[0;32m   1453\u001b[0m           return tf_session.TF_DeprecatedSessionRunCallable(\n",
      "\u001b[1;31mKeyboardInterrupt\u001b[0m: "
     ]
    }
   ],
   "source": [
    "import keras.backend as K\n",
    "\n",
    "BATCH_SIZE = 2048\n",
    "LATENT_SIZE = 128\n",
    "\n",
    "NAME = 'ConvVAE_KLLayer'\n",
    "\n",
    "from keras.models import Sequential, Model, load_model, save_model\n",
    "from keras.layers import Input, Dense, TimeDistributed, Reshape, Permute, Flatten, Dropout, Activation, Lambda\n",
    "from keras.layers import Conv2D, MaxPool2D, BatchNormalization\n",
    "from keras.optimizers import Adam\n",
    "from keras_tqdm import TQDMNotebookCallback\n",
    "from keras.callbacks import TensorBoard, ModelCheckpoint\n",
    "from keras.utils import plot_model\n",
    "from keras import objectives\n",
    "from custom_layers import KLDivergenceLayer\n",
    "\n",
    "def sampling(args):\n",
    "    z_mean, z_log_var = args\n",
    "    shape = K.shape(z_mean)\n",
    "    epsilon = K.random_normal(shape=shape, mean=0, stddev=1)\n",
    "    return z_mean + K.exp(.5 * z_log_var) * epsilon\n",
    "\n",
    "def nll(y_true, y_pred):\n",
    "    \"\"\" Negative log likelihood (Bernoulli). \"\"\"\n",
    "\n",
    "    # keras.losses.binary_crossentropy gives the mean\n",
    "    # over the last axis. we require the sum\n",
    "    return K.sum(K.binary_crossentropy(y_true, y_pred), axis=-1)\n",
    "\n",
    "if len(K.tensorflow_backend._get_available_gpus()) > 0:\n",
    "    print('Using GPU')\n",
    "\n",
    "INPUT_SHAPE = [len(LEARNING_DRUM_MAP), WINDOW_SIZE]\n",
    "\n",
    "do_params = dict(\n",
    "    layer_1=.2,\n",
    "    layer_2=.1,\n",
    "    layer_3=.2\n",
    ")\n",
    "\n",
    "general_params = dict(\n",
    "    kernel_initializer='he_normal',\n",
    ")\n",
    "\n",
    "verbose = True\n",
    "\n",
    "if verbose: print('Input shape:', INPUT_SHAPE)\n",
    "    \n",
    "K.clear_session()\n",
    "\n",
    "# Inputs\n",
    "input_ = Input(shape=INPUT_SHAPE)\n",
    "add_channel = Reshape(target_shape=(*INPUT_SHAPE, 1))(input_)\n",
    "\n",
    "# Conv Part\n",
    "conv_1 = Conv2D(16, (4, 1), strides=(1, 1), padding='same', name='conv_1', **general_params)(add_channel)\n",
    "# conv_1 = BatchNormalization(momentum=.95)(conv_1) # off\n",
    "conv_1 = Activation('elu')(conv_1)\n",
    "\n",
    "conv_1 = MaxPool2D((4, 1), strides=(1, 1), padding='same')(conv_1)\n",
    "\n",
    "flatten_input = Flatten(name='flatten_input')(conv_1)\n",
    "\n",
    "encoder_1 = Dense(256, activation='elu', name='encoder_1', **general_params)(flatten_input)\n",
    "encoder_1 = Dropout(do_params['layer_1'])(encoder_1)\n",
    "\n",
    "## VAE part\n",
    "mu = Dense(LATENT_SIZE, activation='linear', **general_params)(encoder_1)\n",
    "log_var = Dense(LATENT_SIZE, activation='linear', **general_params)(encoder_1)\n",
    "\n",
    "mu, log_var = KLDivergenceLayer(.005)([mu, log_var])\n",
    "\n",
    "# Sample z ~ Q(z|X)\n",
    "z = Lambda(sampling, output_shape=(LATENT_SIZE,))([mu, log_var])\n",
    "\n",
    "encoder = Model(inputs=input_, outputs=z)\n",
    "\n",
    "decoder = Sequential([\n",
    "    Dense(256, activation='elu', name='decoder_2', **general_params),\n",
    "    Dropout(do_params['layer_3']),\n",
    "    Dense(np.product(INPUT_SHAPE), activation='sigmoid', name='flat_output', **general_params),\n",
    "    Reshape(INPUT_SHAPE, name='output'),\n",
    "])\n",
    "\n",
    "output = decoder(z)\n",
    "\n",
    "model = Model(inputs=input_, outputs=output)\n",
    "\n",
    "model.compile(\n",
    "    optimizer=Adam(lr=0.001, decay=10 ** -5),\n",
    "    loss=nll,\n",
    "    metrics=['mse', 'mae']\n",
    ")\n",
    "\n",
    "tb_log_dir = './tb_logs/{}/{}'.format(NAME, now(\"%Y-%m-%d %H_%M\"))\n",
    "save_path = './_checkpoints/'\n",
    "\n",
    "purge_directory(save_path)\n",
    "\n",
    "callbacks = [\n",
    "    TQDMNotebookCallback(),\n",
    "    TensorBoard(log_dir=tb_log_dir),\n",
    "    ModelCheckpoint(save_path + 'checkpoint-{epoch:02d}-{val_loss:.4f}.mdl', monitor='val_loss', save_best_only=True),\n",
    "]\n",
    "\n",
    "history = model.fit(X_train, y_train, \n",
    "                    batch_size=BATCH_SIZE, epochs=128, \n",
    "                    validation_split=.1, shuffle=True,\n",
    "                    verbose=0, callbacks=callbacks)\n",
    "\n",
    "res = model.evaluate(X_test, y_test, verbose=0)\n",
    "\n",
    "msg = 'Done! Loss: {}, MSE: {}, MAE: {}'.format(*res)\n",
    "\n",
    "TelegramBot().send(msg)\n",
    "print(msg)"
   ]
  },
  {
   "cell_type": "markdown",
   "metadata": {},
   "source": [
    "## Saver"
   ]
  },
  {
   "cell_type": "code",
   "execution_count": 10,
   "metadata": {},
   "outputs": [],
   "source": [
    "from keras.models import save_model, load_model\n",
    "\n",
    "save_model(model, f'./models/{NAME}_test.mdl')"
   ]
  },
  {
   "cell_type": "markdown",
   "metadata": {},
   "source": [
    "## Loader "
   ]
  },
  {
   "cell_type": "code",
   "execution_count": 17,
   "metadata": {
    "scrolled": true
   },
   "outputs": [
    {
     "name": "stderr",
     "output_type": "stream",
     "text": [
      "Using TensorFlow backend.\n"
     ]
    }
   ],
   "source": [
    "import keras.backend as K\n",
    "\n",
    "from keras.models import load_model\n",
    "from custom_layers import KLDivergenceLayer\n",
    "\n",
    "def nll(y_true, y_pred):\n",
    "    \"\"\" Negative log likelihood (Bernoulli). \"\"\"\n",
    "\n",
    "    # keras.losses.binary_crossentropy gives the mean\n",
    "    # over the last axis. we require the sum\n",
    "    return K.sum(K.binary_crossentropy(y_true, y_pred), axis=-1)\n",
    "\n",
    "K.clear_session()\n",
    "\n",
    "model = load_model('./models/ConvVAE_KLLayer_mse_00287.mdl', custom_objects=dict(KLDivergenceLayer=KLDivergenceLayer, nll=nll))\n",
    "encoder = get_encoder(model, -2)\n",
    "decoder = build_intermediate_model(model, start_layer_index=-1)"
   ]
  },
  {
   "cell_type": "markdown",
   "metadata": {},
   "source": [
    "# VAE w/ KL and Batch Norm"
   ]
  },
  {
   "cell_type": "code",
   "execution_count": 5,
   "metadata": {},
   "outputs": [
    {
     "name": "stderr",
     "output_type": "stream",
     "text": [
      "Using TensorFlow backend.\n"
     ]
    },
    {
     "name": "stdout",
     "output_type": "stream",
     "text": [
      "Using GPU\n",
      "Input shape: [4, 96]\n"
     ]
    },
    {
     "data": {
      "application/vnd.jupyter.widget-view+json": {
       "model_id": "53b73814b2cc44d49b2d0739234e7991",
       "version_major": 2,
       "version_minor": 0
      },
      "text/plain": [
       "HBox(children=(IntProgress(value=0, description='Training', max=128, style=ProgressStyle(description_width='in…"
      ]
     },
     "metadata": {},
     "output_type": "display_data"
    },
    {
     "data": {
      "application/vnd.jupyter.widget-view+json": {
       "model_id": "",
       "version_major": 2,
       "version_minor": 0
      },
      "text/plain": [
       "HBox(children=(IntProgress(value=0, description='Epoch 0', max=933749, style=ProgressStyle(description_width='…"
      ]
     },
     "metadata": {},
     "output_type": "display_data"
    },
    {
     "data": {
      "application/vnd.jupyter.widget-view+json": {
       "model_id": "",
       "version_major": 2,
       "version_minor": 0
      },
      "text/plain": [
       "HBox(children=(IntProgress(value=0, description='Epoch 1', max=933749, style=ProgressStyle(description_width='…"
      ]
     },
     "metadata": {},
     "output_type": "display_data"
    },
    {
     "data": {
      "application/vnd.jupyter.widget-view+json": {
       "model_id": "",
       "version_major": 2,
       "version_minor": 0
      },
      "text/plain": [
       "HBox(children=(IntProgress(value=0, description='Epoch 2', max=933749, style=ProgressStyle(description_width='…"
      ]
     },
     "metadata": {},
     "output_type": "display_data"
    },
    {
     "data": {
      "application/vnd.jupyter.widget-view+json": {
       "model_id": "",
       "version_major": 2,
       "version_minor": 0
      },
      "text/plain": [
       "HBox(children=(IntProgress(value=0, description='Epoch 3', max=933749, style=ProgressStyle(description_width='…"
      ]
     },
     "metadata": {},
     "output_type": "display_data"
    },
    {
     "data": {
      "application/vnd.jupyter.widget-view+json": {
       "model_id": "",
       "version_major": 2,
       "version_minor": 0
      },
      "text/plain": [
       "HBox(children=(IntProgress(value=0, description='Epoch 4', max=933749, style=ProgressStyle(description_width='…"
      ]
     },
     "metadata": {},
     "output_type": "display_data"
    },
    {
     "data": {
      "application/vnd.jupyter.widget-view+json": {
       "model_id": "",
       "version_major": 2,
       "version_minor": 0
      },
      "text/plain": [
       "HBox(children=(IntProgress(value=0, description='Epoch 5', max=933749, style=ProgressStyle(description_width='…"
      ]
     },
     "metadata": {},
     "output_type": "display_data"
    },
    {
     "data": {
      "application/vnd.jupyter.widget-view+json": {
       "model_id": "",
       "version_major": 2,
       "version_minor": 0
      },
      "text/plain": [
       "HBox(children=(IntProgress(value=0, description='Epoch 6', max=933749, style=ProgressStyle(description_width='…"
      ]
     },
     "metadata": {},
     "output_type": "display_data"
    },
    {
     "data": {
      "application/vnd.jupyter.widget-view+json": {
       "model_id": "",
       "version_major": 2,
       "version_minor": 0
      },
      "text/plain": [
       "HBox(children=(IntProgress(value=0, description='Epoch 7', max=933749, style=ProgressStyle(description_width='…"
      ]
     },
     "metadata": {},
     "output_type": "display_data"
    },
    {
     "data": {
      "application/vnd.jupyter.widget-view+json": {
       "model_id": "",
       "version_major": 2,
       "version_minor": 0
      },
      "text/plain": [
       "HBox(children=(IntProgress(value=0, description='Epoch 8', max=933749, style=ProgressStyle(description_width='…"
      ]
     },
     "metadata": {},
     "output_type": "display_data"
    },
    {
     "data": {
      "application/vnd.jupyter.widget-view+json": {
       "model_id": "",
       "version_major": 2,
       "version_minor": 0
      },
      "text/plain": [
       "HBox(children=(IntProgress(value=0, description='Epoch 9', max=933749, style=ProgressStyle(description_width='…"
      ]
     },
     "metadata": {},
     "output_type": "display_data"
    },
    {
     "data": {
      "application/vnd.jupyter.widget-view+json": {
       "model_id": "",
       "version_major": 2,
       "version_minor": 0
      },
      "text/plain": [
       "HBox(children=(IntProgress(value=0, description='Epoch 10', max=933749, style=ProgressStyle(description_width=…"
      ]
     },
     "metadata": {},
     "output_type": "display_data"
    },
    {
     "data": {
      "application/vnd.jupyter.widget-view+json": {
       "model_id": "",
       "version_major": 2,
       "version_minor": 0
      },
      "text/plain": [
       "HBox(children=(IntProgress(value=0, description='Epoch 11', max=933749, style=ProgressStyle(description_width=…"
      ]
     },
     "metadata": {},
     "output_type": "display_data"
    },
    {
     "data": {
      "application/vnd.jupyter.widget-view+json": {
       "model_id": "",
       "version_major": 2,
       "version_minor": 0
      },
      "text/plain": [
       "HBox(children=(IntProgress(value=0, description='Epoch 12', max=933749, style=ProgressStyle(description_width=…"
      ]
     },
     "metadata": {},
     "output_type": "display_data"
    },
    {
     "data": {
      "application/vnd.jupyter.widget-view+json": {
       "model_id": "",
       "version_major": 2,
       "version_minor": 0
      },
      "text/plain": [
       "HBox(children=(IntProgress(value=0, description='Epoch 13', max=933749, style=ProgressStyle(description_width=…"
      ]
     },
     "metadata": {},
     "output_type": "display_data"
    },
    {
     "data": {
      "application/vnd.jupyter.widget-view+json": {
       "model_id": "",
       "version_major": 2,
       "version_minor": 0
      },
      "text/plain": [
       "HBox(children=(IntProgress(value=0, description='Epoch 14', max=933749, style=ProgressStyle(description_width=…"
      ]
     },
     "metadata": {},
     "output_type": "display_data"
    },
    {
     "data": {
      "application/vnd.jupyter.widget-view+json": {
       "model_id": "",
       "version_major": 2,
       "version_minor": 0
      },
      "text/plain": [
       "HBox(children=(IntProgress(value=0, description='Epoch 15', max=933749, style=ProgressStyle(description_width=…"
      ]
     },
     "metadata": {},
     "output_type": "display_data"
    },
    {
     "data": {
      "application/vnd.jupyter.widget-view+json": {
       "model_id": "",
       "version_major": 2,
       "version_minor": 0
      },
      "text/plain": [
       "HBox(children=(IntProgress(value=0, description='Epoch 16', max=933749, style=ProgressStyle(description_width=…"
      ]
     },
     "metadata": {},
     "output_type": "display_data"
    },
    {
     "data": {
      "application/vnd.jupyter.widget-view+json": {
       "model_id": "",
       "version_major": 2,
       "version_minor": 0
      },
      "text/plain": [
       "HBox(children=(IntProgress(value=0, description='Epoch 17', max=933749, style=ProgressStyle(description_width=…"
      ]
     },
     "metadata": {},
     "output_type": "display_data"
    },
    {
     "data": {
      "application/vnd.jupyter.widget-view+json": {
       "model_id": "",
       "version_major": 2,
       "version_minor": 0
      },
      "text/plain": [
       "HBox(children=(IntProgress(value=0, description='Epoch 18', max=933749, style=ProgressStyle(description_width=…"
      ]
     },
     "metadata": {},
     "output_type": "display_data"
    },
    {
     "data": {
      "application/vnd.jupyter.widget-view+json": {
       "model_id": "",
       "version_major": 2,
       "version_minor": 0
      },
      "text/plain": [
       "HBox(children=(IntProgress(value=0, description='Epoch 19', max=933749, style=ProgressStyle(description_width=…"
      ]
     },
     "metadata": {},
     "output_type": "display_data"
    },
    {
     "data": {
      "application/vnd.jupyter.widget-view+json": {
       "model_id": "",
       "version_major": 2,
       "version_minor": 0
      },
      "text/plain": [
       "HBox(children=(IntProgress(value=0, description='Epoch 20', max=933749, style=ProgressStyle(description_width=…"
      ]
     },
     "metadata": {},
     "output_type": "display_data"
    },
    {
     "data": {
      "application/vnd.jupyter.widget-view+json": {
       "model_id": "",
       "version_major": 2,
       "version_minor": 0
      },
      "text/plain": [
       "HBox(children=(IntProgress(value=0, description='Epoch 21', max=933749, style=ProgressStyle(description_width=…"
      ]
     },
     "metadata": {},
     "output_type": "display_data"
    },
    {
     "data": {
      "application/vnd.jupyter.widget-view+json": {
       "model_id": "",
       "version_major": 2,
       "version_minor": 0
      },
      "text/plain": [
       "HBox(children=(IntProgress(value=0, description='Epoch 22', max=933749, style=ProgressStyle(description_width=…"
      ]
     },
     "metadata": {},
     "output_type": "display_data"
    },
    {
     "data": {
      "application/vnd.jupyter.widget-view+json": {
       "model_id": "",
       "version_major": 2,
       "version_minor": 0
      },
      "text/plain": [
       "HBox(children=(IntProgress(value=0, description='Epoch 23', max=933749, style=ProgressStyle(description_width=…"
      ]
     },
     "metadata": {},
     "output_type": "display_data"
    },
    {
     "data": {
      "application/vnd.jupyter.widget-view+json": {
       "model_id": "",
       "version_major": 2,
       "version_minor": 0
      },
      "text/plain": [
       "HBox(children=(IntProgress(value=0, description='Epoch 24', max=933749, style=ProgressStyle(description_width=…"
      ]
     },
     "metadata": {},
     "output_type": "display_data"
    },
    {
     "data": {
      "application/vnd.jupyter.widget-view+json": {
       "model_id": "",
       "version_major": 2,
       "version_minor": 0
      },
      "text/plain": [
       "HBox(children=(IntProgress(value=0, description='Epoch 25', max=933749, style=ProgressStyle(description_width=…"
      ]
     },
     "metadata": {},
     "output_type": "display_data"
    },
    {
     "data": {
      "application/vnd.jupyter.widget-view+json": {
       "model_id": "9a9f5c19b8b04fffbea8e82733471225",
       "version_major": 2,
       "version_minor": 0
      },
      "text/plain": [
       "HBox(children=(IntProgress(value=0, description='Epoch 26', max=933749, style=ProgressStyle(description_width=…"
      ]
     },
     "metadata": {},
     "output_type": "display_data"
    },
    {
     "ename": "KeyboardInterrupt",
     "evalue": "",
     "output_type": "error",
     "traceback": [
      "\u001b[1;31m---------------------------------------------------------------------------\u001b[0m",
      "\u001b[1;31mKeyboardInterrupt\u001b[0m                         Traceback (most recent call last)",
      "\u001b[1;32m<ipython-input-5-3681fbaddadf>\u001b[0m in \u001b[0;36m<module>\u001b[1;34m()\u001b[0m\n\u001b[0;32m    126\u001b[0m                     \u001b[0mbatch_size\u001b[0m\u001b[1;33m=\u001b[0m\u001b[0mBATCH_SIZE\u001b[0m\u001b[1;33m,\u001b[0m \u001b[0mepochs\u001b[0m\u001b[1;33m=\u001b[0m\u001b[1;36m128\u001b[0m\u001b[1;33m,\u001b[0m\u001b[1;33m\u001b[0m\u001b[0m\n\u001b[0;32m    127\u001b[0m                     \u001b[0mvalidation_split\u001b[0m\u001b[1;33m=\u001b[0m\u001b[1;36m.1\u001b[0m\u001b[1;33m,\u001b[0m \u001b[0mshuffle\u001b[0m\u001b[1;33m=\u001b[0m\u001b[1;32mTrue\u001b[0m\u001b[1;33m,\u001b[0m\u001b[1;33m\u001b[0m\u001b[0m\n\u001b[1;32m--> 128\u001b[1;33m                     verbose=0, callbacks=callbacks)\n\u001b[0m\u001b[0;32m    129\u001b[0m \u001b[1;33m\u001b[0m\u001b[0m\n\u001b[0;32m    130\u001b[0m \u001b[0mres\u001b[0m \u001b[1;33m=\u001b[0m \u001b[0mmodel\u001b[0m\u001b[1;33m.\u001b[0m\u001b[0mevaluate\u001b[0m\u001b[1;33m(\u001b[0m\u001b[0mX_test\u001b[0m\u001b[1;33m,\u001b[0m \u001b[0my_test\u001b[0m\u001b[1;33m,\u001b[0m \u001b[0mverbose\u001b[0m\u001b[1;33m=\u001b[0m\u001b[1;36m0\u001b[0m\u001b[1;33m)\u001b[0m\u001b[1;33m\u001b[0m\u001b[0m\n",
      "\u001b[1;32mC:\\Anaconda3\\lib\\site-packages\\keras\\engine\\training.py\u001b[0m in \u001b[0;36mfit\u001b[1;34m(self, x, y, batch_size, epochs, verbose, callbacks, validation_split, validation_data, shuffle, class_weight, sample_weight, initial_epoch, steps_per_epoch, validation_steps, **kwargs)\u001b[0m\n\u001b[0;32m   1035\u001b[0m                                         \u001b[0minitial_epoch\u001b[0m\u001b[1;33m=\u001b[0m\u001b[0minitial_epoch\u001b[0m\u001b[1;33m,\u001b[0m\u001b[1;33m\u001b[0m\u001b[0m\n\u001b[0;32m   1036\u001b[0m                                         \u001b[0msteps_per_epoch\u001b[0m\u001b[1;33m=\u001b[0m\u001b[0msteps_per_epoch\u001b[0m\u001b[1;33m,\u001b[0m\u001b[1;33m\u001b[0m\u001b[0m\n\u001b[1;32m-> 1037\u001b[1;33m                                         validation_steps=validation_steps)\n\u001b[0m\u001b[0;32m   1038\u001b[0m \u001b[1;33m\u001b[0m\u001b[0m\n\u001b[0;32m   1039\u001b[0m     def evaluate(self, x=None, y=None,\n",
      "\u001b[1;32mC:\\Anaconda3\\lib\\site-packages\\keras\\engine\\training_arrays.py\u001b[0m in \u001b[0;36mfit_loop\u001b[1;34m(model, f, ins, out_labels, batch_size, epochs, verbose, callbacks, val_f, val_ins, shuffle, callback_metrics, initial_epoch, steps_per_epoch, validation_steps)\u001b[0m\n\u001b[0;32m    197\u001b[0m                     \u001b[0mins_batch\u001b[0m\u001b[1;33m[\u001b[0m\u001b[0mi\u001b[0m\u001b[1;33m]\u001b[0m \u001b[1;33m=\u001b[0m \u001b[0mins_batch\u001b[0m\u001b[1;33m[\u001b[0m\u001b[0mi\u001b[0m\u001b[1;33m]\u001b[0m\u001b[1;33m.\u001b[0m\u001b[0mtoarray\u001b[0m\u001b[1;33m(\u001b[0m\u001b[1;33m)\u001b[0m\u001b[1;33m\u001b[0m\u001b[0m\n\u001b[0;32m    198\u001b[0m \u001b[1;33m\u001b[0m\u001b[0m\n\u001b[1;32m--> 199\u001b[1;33m                 \u001b[0mouts\u001b[0m \u001b[1;33m=\u001b[0m \u001b[0mf\u001b[0m\u001b[1;33m(\u001b[0m\u001b[0mins_batch\u001b[0m\u001b[1;33m)\u001b[0m\u001b[1;33m\u001b[0m\u001b[0m\n\u001b[0m\u001b[0;32m    200\u001b[0m                 \u001b[0mouts\u001b[0m \u001b[1;33m=\u001b[0m \u001b[0mto_list\u001b[0m\u001b[1;33m(\u001b[0m\u001b[0mouts\u001b[0m\u001b[1;33m)\u001b[0m\u001b[1;33m\u001b[0m\u001b[0m\n\u001b[0;32m    201\u001b[0m                 \u001b[1;32mfor\u001b[0m \u001b[0ml\u001b[0m\u001b[1;33m,\u001b[0m \u001b[0mo\u001b[0m \u001b[1;32min\u001b[0m \u001b[0mzip\u001b[0m\u001b[1;33m(\u001b[0m\u001b[0mout_labels\u001b[0m\u001b[1;33m,\u001b[0m \u001b[0mouts\u001b[0m\u001b[1;33m)\u001b[0m\u001b[1;33m:\u001b[0m\u001b[1;33m\u001b[0m\u001b[0m\n",
      "\u001b[1;32mC:\\Anaconda3\\lib\\site-packages\\keras\\backend\\tensorflow_backend.py\u001b[0m in \u001b[0;36m__call__\u001b[1;34m(self, inputs)\u001b[0m\n\u001b[0;32m   2664\u001b[0m                 \u001b[1;32mreturn\u001b[0m \u001b[0mself\u001b[0m\u001b[1;33m.\u001b[0m\u001b[0m_legacy_call\u001b[0m\u001b[1;33m(\u001b[0m\u001b[0minputs\u001b[0m\u001b[1;33m)\u001b[0m\u001b[1;33m\u001b[0m\u001b[0m\n\u001b[0;32m   2665\u001b[0m \u001b[1;33m\u001b[0m\u001b[0m\n\u001b[1;32m-> 2666\u001b[1;33m             \u001b[1;32mreturn\u001b[0m \u001b[0mself\u001b[0m\u001b[1;33m.\u001b[0m\u001b[0m_call\u001b[0m\u001b[1;33m(\u001b[0m\u001b[0minputs\u001b[0m\u001b[1;33m)\u001b[0m\u001b[1;33m\u001b[0m\u001b[0m\n\u001b[0m\u001b[0;32m   2667\u001b[0m         \u001b[1;32melse\u001b[0m\u001b[1;33m:\u001b[0m\u001b[1;33m\u001b[0m\u001b[0m\n\u001b[0;32m   2668\u001b[0m             \u001b[1;32mif\u001b[0m \u001b[0mpy_any\u001b[0m\u001b[1;33m(\u001b[0m\u001b[0mis_tensor\u001b[0m\u001b[1;33m(\u001b[0m\u001b[0mx\u001b[0m\u001b[1;33m)\u001b[0m \u001b[1;32mfor\u001b[0m \u001b[0mx\u001b[0m \u001b[1;32min\u001b[0m \u001b[0minputs\u001b[0m\u001b[1;33m)\u001b[0m\u001b[1;33m:\u001b[0m\u001b[1;33m\u001b[0m\u001b[0m\n",
      "\u001b[1;32mC:\\Anaconda3\\lib\\site-packages\\keras\\backend\\tensorflow_backend.py\u001b[0m in \u001b[0;36m_call\u001b[1;34m(self, inputs)\u001b[0m\n\u001b[0;32m   2634\u001b[0m                                 \u001b[0msymbol_vals\u001b[0m\u001b[1;33m,\u001b[0m\u001b[1;33m\u001b[0m\u001b[0m\n\u001b[0;32m   2635\u001b[0m                                 session)\n\u001b[1;32m-> 2636\u001b[1;33m         \u001b[0mfetched\u001b[0m \u001b[1;33m=\u001b[0m \u001b[0mself\u001b[0m\u001b[1;33m.\u001b[0m\u001b[0m_callable_fn\u001b[0m\u001b[1;33m(\u001b[0m\u001b[1;33m*\u001b[0m\u001b[0marray_vals\u001b[0m\u001b[1;33m)\u001b[0m\u001b[1;33m\u001b[0m\u001b[0m\n\u001b[0m\u001b[0;32m   2637\u001b[0m         \u001b[1;32mreturn\u001b[0m \u001b[0mfetched\u001b[0m\u001b[1;33m[\u001b[0m\u001b[1;33m:\u001b[0m\u001b[0mlen\u001b[0m\u001b[1;33m(\u001b[0m\u001b[0mself\u001b[0m\u001b[1;33m.\u001b[0m\u001b[0moutputs\u001b[0m\u001b[1;33m)\u001b[0m\u001b[1;33m]\u001b[0m\u001b[1;33m\u001b[0m\u001b[0m\n\u001b[0;32m   2638\u001b[0m \u001b[1;33m\u001b[0m\u001b[0m\n",
      "\u001b[1;32mC:\\Anaconda3\\lib\\site-packages\\tensorflow\\python\\client\\session.py\u001b[0m in \u001b[0;36m__call__\u001b[1;34m(self, *args)\u001b[0m\n\u001b[0;32m   1449\u001b[0m         \u001b[1;32mif\u001b[0m \u001b[0mself\u001b[0m\u001b[1;33m.\u001b[0m\u001b[0m_session\u001b[0m\u001b[1;33m.\u001b[0m\u001b[0m_created_with_new_api\u001b[0m\u001b[1;33m:\u001b[0m\u001b[1;33m\u001b[0m\u001b[0m\n\u001b[0;32m   1450\u001b[0m           return tf_session.TF_SessionRunCallable(\n\u001b[1;32m-> 1451\u001b[1;33m               self._session._session, self._handle, args, status, None)\n\u001b[0m\u001b[0;32m   1452\u001b[0m         \u001b[1;32melse\u001b[0m\u001b[1;33m:\u001b[0m\u001b[1;33m\u001b[0m\u001b[0m\n\u001b[0;32m   1453\u001b[0m           return tf_session.TF_DeprecatedSessionRunCallable(\n",
      "\u001b[1;31mKeyboardInterrupt\u001b[0m: "
     ]
    }
   ],
   "source": [
    "import keras.backend as K\n",
    "\n",
    "BATCH_SIZE = 2 ** 11\n",
    "LATENT_SIZE = 128\n",
    "\n",
    "NAME = 'ConvVAE_KLLayer_BN_CLR'\n",
    "\n",
    "from keras.models import Sequential, Model, load_model, save_model\n",
    "from keras.layers import Input, Dense, Reshape, Flatten, Dropout, Activation, Lambda\n",
    "from keras.layers import Conv2D, MaxPool2D, BatchNormalization\n",
    "from keras.optimizers import Adam, SGD\n",
    "from keras_tqdm import TQDMNotebookCallback\n",
    "from keras.callbacks import TensorBoard, ModelCheckpoint\n",
    "from keras.utils import plot_model\n",
    "from keras import objectives\n",
    "\n",
    "from keras_cyclic_lr import CyclicLR\n",
    "from keras_1cycle import OneCycleLR\n",
    "from custom_layers import KLDivergenceLayer\n",
    "\n",
    "def sampling(args):\n",
    "    z_mean, z_log_var = args\n",
    "    shape = K.shape(z_mean)\n",
    "    epsilon = K.random_normal(shape=shape, mean=0, stddev=1)\n",
    "    return z_mean + K.exp(.5 * z_log_var) * epsilon\n",
    "\n",
    "def nll(y_true, y_pred):\n",
    "    \"\"\" Negative log likelihood (Bernoulli). \"\"\"\n",
    "\n",
    "    # keras.losses.binary_crossentropy gives the mean\n",
    "    # over the last axis. we require the sum\n",
    "    return K.sum(K.binary_crossentropy(y_true, y_pred), axis=-1)\n",
    "\n",
    "if len(K.tensorflow_backend._get_available_gpus()) > 0:\n",
    "    print('Using GPU')\n",
    "\n",
    "INPUT_SHAPE = [len(LEARNING_DRUM_MAP), WINDOW_SIZE]\n",
    "\n",
    "do_params = dict(\n",
    "    layer_1=.2,\n",
    "    layer_2=.2,\n",
    ")\n",
    "\n",
    "general_params = dict(\n",
    "    kernel_initializer='he_normal',\n",
    ")\n",
    "\n",
    "verbose = True\n",
    "\n",
    "if verbose: print('Input shape:', INPUT_SHAPE)\n",
    "    \n",
    "K.clear_session()\n",
    "\n",
    "# Inputs\n",
    "input_ = Input(shape=INPUT_SHAPE)\n",
    "\n",
    "encoder = Sequential([\n",
    "    Reshape(target_shape=(*INPUT_SHAPE, 1)),\n",
    "    \n",
    "    Conv2D(4, (4, 1), strides=(1, 1), padding='same', name='conv_1', **general_params), # used to be 16\n",
    "    BatchNormalization(),\n",
    "    Activation('elu'),\n",
    "    \n",
    "    Flatten(name='flatten_input'),\n",
    "    \n",
    "    Dense(256, name='encoder_1', **general_params),\n",
    "    BatchNormalization(),\n",
    "    Activation('elu'),\n",
    "    Dropout(do_params['layer_1']),\n",
    "])\n",
    "\n",
    "encoder_1 = encoder(input_)\n",
    "\n",
    "## VAE part\n",
    "mu = Dense(LATENT_SIZE, activation='linear', **general_params)(encoder_1)\n",
    "log_var = Dense(LATENT_SIZE, activation='linear', **general_params)(encoder_1)\n",
    "\n",
    "mu, log_var = KLDivergenceLayer(.005)([mu, log_var])\n",
    "\n",
    "# Sample z ~ Q(z|X)\n",
    "z = Lambda(sampling, output_shape=(LATENT_SIZE,))([mu, log_var])\n",
    "\n",
    "encoder = Model(inputs=input_, outputs=z)\n",
    "\n",
    "decoder = Sequential([\n",
    "    Dense(256, name='decoder_2', **general_params),\n",
    "    BatchNormalization(),\n",
    "    Activation('elu'),\n",
    "    Dropout(do_params['layer_2']),\n",
    "    \n",
    "    Dense(np.product(INPUT_SHAPE), activation='sigmoid', name='flat_output', **general_params),\n",
    "    Reshape(INPUT_SHAPE, name='output'),\n",
    "])\n",
    "\n",
    "output = decoder(z)\n",
    "\n",
    "model = Model(inputs=input_, outputs=output)\n",
    "\n",
    "\n",
    "optimizers = dict(\n",
    "    adam=Adam(lr=3e-4, decay=0),\n",
    "    sgd=SGD(lr=1e-2, momentum=0.95, nesterov=True),\n",
    ")\n",
    "\n",
    "model.compile(\n",
    "    optimizer=optimizers['sgd'],\n",
    "    loss=nll,\n",
    "    metrics=['mse', 'mae']\n",
    ")\n",
    "\n",
    "tb_log_dir = './tb_logs/{}/{}'.format(NAME, now(\"%Y-%m-%d %H_%M\"))\n",
    "save_path = './_checkpoints/'\n",
    "\n",
    "purge_directory(save_path)\n",
    "\n",
    "callbacks = [\n",
    "    TQDMNotebookCallback(),\n",
    "    TensorBoard(log_dir=tb_log_dir, write_graph=False),\n",
    "    ModelCheckpoint(save_path + 'checkpoint-{epoch:02d}-{val_loss:.4f}.mdl', monitor='val_loss', save_best_only=True),\n",
    "#     CyclicLR(base_lr=1e-5, max_lr=3e-4, step_size=2000), # adam\n",
    "    CyclicLR(base_lr=1e-3, max_lr=1e-2, step_size=2000),\n",
    "#     OneCycleLR(max_lr=.01, verbose=False)\n",
    "]\n",
    "\n",
    "history = model.fit(X_train, y_train, \n",
    "                    batch_size=BATCH_SIZE, epochs=128, \n",
    "                    validation_split=.1, shuffle=True,\n",
    "                    verbose=0, callbacks=callbacks)\n",
    "\n",
    "res = model.evaluate(X_test, y_test, verbose=0)\n",
    "\n",
    "msg = 'Done! Loss: {}, MSE: {}, MAE: {}'.format(*res)\n",
    "\n",
    "TelegramBot().send(msg)\n",
    "print(msg)"
   ]
  },
  {
   "cell_type": "markdown",
   "metadata": {},
   "source": [
    "### LRFinder "
   ]
  },
  {
   "cell_type": "code",
   "execution_count": 6,
   "metadata": {
    "scrolled": true
   },
   "outputs": [
    {
     "data": {
      "application/vnd.jupyter.widget-view+json": {
       "model_id": "2ffd4ff9325a432a824a91f26773c53c",
       "version_major": 2,
       "version_minor": 0
      },
      "text/plain": [
       "HBox(children=(IntProgress(value=0, description='Training', max=4, style=ProgressStyle(description_width='init…"
      ]
     },
     "metadata": {},
     "output_type": "display_data"
    },
    {
     "data": {
      "application/vnd.jupyter.widget-view+json": {
       "model_id": "",
       "version_major": 2,
       "version_minor": 0
      },
      "text/plain": [
       "HBox(children=(IntProgress(value=0, description='Epoch 0', max=1037499, style=ProgressStyle(description_width=…"
      ]
     },
     "metadata": {},
     "output_type": "display_data"
    },
    {
     "data": {
      "application/vnd.jupyter.widget-view+json": {
       "model_id": "",
       "version_major": 2,
       "version_minor": 0
      },
      "text/plain": [
       "HBox(children=(IntProgress(value=0, description='Epoch 1', max=1037499, style=ProgressStyle(description_width=…"
      ]
     },
     "metadata": {},
     "output_type": "display_data"
    },
    {
     "data": {
      "application/vnd.jupyter.widget-view+json": {
       "model_id": "",
       "version_major": 2,
       "version_minor": 0
      },
      "text/plain": [
       "HBox(children=(IntProgress(value=0, description='Epoch 2', max=1037499, style=ProgressStyle(description_width=…"
      ]
     },
     "metadata": {},
     "output_type": "display_data"
    },
    {
     "data": {
      "application/vnd.jupyter.widget-view+json": {
       "model_id": "",
       "version_major": 2,
       "version_minor": 0
      },
      "text/plain": [
       "HBox(children=(IntProgress(value=0, description='Epoch 3', max=1037499, style=ProgressStyle(description_width=…"
      ]
     },
     "metadata": {},
     "output_type": "display_data"
    }
   ],
   "source": [
    "from keras_lr_finder import LRFinder\n",
    "\n",
    "lr_finder = LRFinder(model)\n",
    "\n",
    "lr_finder.find(X_train, y_train, start_lr=1e-6, end_lr=5, batch_size=BATCH_SIZE, epochs=4, verbose=0, callbacks=[TQDMNotebookCallback()])"
   ]
  },
  {
   "cell_type": "code",
   "execution_count": 7,
   "metadata": {},
   "outputs": [
    {
     "data": {
      "image/png": "[encoded data removed]",
      "text/plain": [
       "<Figure size 432x288 with 1 Axes>"
      ]
     },
     "metadata": {
      "needs_background": "light"
     },
     "output_type": "display_data"
    }
   ],
   "source": [
    "lr_finder.plot_loss(n_skip_beginning=20, n_skip_end=5)"
   ]
  },
  {
   "cell_type": "code",
   "execution_count": 7,
   "metadata": {},
   "outputs": [
    {
     "data": {
      "image/png": "[encoded data removed]",
      "text/plain": [
       "<Figure size 432x288 with 1 Axes>"
      ]
     },
     "metadata": {
      "needs_background": "light"
     },
     "output_type": "display_data"
    }
   ],
   "source": [
    "lr_finder.plot_loss(n_skip_beginning=20, n_skip_end=5)"
   ]
  },
  {
   "cell_type": "code",
   "execution_count": 9,
   "metadata": {},
   "outputs": [
    {
     "data": {
      "image/png": "[encoded data removed]",
      "text/plain": [
       "<Figure size 432x288 with 1 Axes>"
      ]
     },
     "metadata": {
      "needs_background": "light"
     },
     "output_type": "display_data"
    }
   ],
   "source": [
    "lr_finder.plot_loss_change(sma=20, n_skip_beginning=20, n_skip_end=5, y_lim=(-1, 1))"
   ]
  },
  {
   "cell_type": "markdown",
   "metadata": {},
   "source": [
    "## Saver"
   ]
  },
  {
   "cell_type": "code",
   "execution_count": 5,
   "metadata": {},
   "outputs": [],
   "source": [
    "from keras.models import save_model\n",
    "\n",
    "save_model(model, f'./models/{NAME}_mse_00217.mdl')"
   ]
  },
  {
   "cell_type": "markdown",
   "metadata": {},
   "source": [
    "## Loader"
   ]
  },
  {
   "cell_type": "code",
   "execution_count": 17,
   "metadata": {},
   "outputs": [],
   "source": [
    "import keras.backend as K\n",
    "\n",
    "from keras.models import load_model\n",
    "from custom_layers import KLDivergenceLayer\n",
    "\n",
    "K.clear_session()\n",
    "\n",
    "def nll(y_true, y_pred):\n",
    "    \"\"\" Negative log likelihood (Bernoulli). \"\"\"\n",
    "\n",
    "    # keras.losses.binary_crossentropy gives the mean\n",
    "    # over the last axis. we require the sum\n",
    "    return K.sum(K.binary_crossentropy(y_true, y_pred), axis=-1)\n",
    "\n",
    "model = load_model('./models/ConvVAE_KLLayer_BN_mse_00217.mdl', custom_objects=dict(KLDivergenceLayer=KLDivergenceLayer, nll=nll))\n",
    "encoder = get_encoder(model, -2)\n",
    "decoder = build_intermediate_model(model, start_layer_index=-1)"
   ]
  },
  {
   "cell_type": "code",
   "execution_count": 7,
   "metadata": {},
   "outputs": [
    {
     "name": "stdout",
     "output_type": "stream",
     "text": [
      "_________________________________________________________________\n",
      "Layer (type)                 Output Shape              Param #   \n",
      "=================================================================\n",
      "reshape_1 (Reshape)          (None, 4, 96, 1)          0         \n",
      "_________________________________________________________________\n",
      "conv_1 (Conv2D)              (None, 4, 96, 4)          20        \n",
      "_________________________________________________________________\n",
      "batch_normalization_1 (Batch (None, 4, 96, 4)          16        \n",
      "_________________________________________________________________\n",
      "activation_1 (Activation)    (None, 4, 96, 4)          0         \n",
      "_________________________________________________________________\n",
      "flatten_input (Flatten)      (None, 1536)              0         \n",
      "_________________________________________________________________\n",
      "encoder_1 (Dense)            (None, 256)               393472    \n",
      "_________________________________________________________________\n",
      "batch_normalization_2 (Batch (None, 256)               1024      \n",
      "_________________________________________________________________\n",
      "activation_2 (Activation)    (None, 256)               0         \n",
      "_________________________________________________________________\n",
      "dropout_1 (Dropout)          (None, 256)               0         \n",
      "=================================================================\n",
      "Total params: 394,532\n",
      "Trainable params: 394,012\n",
      "Non-trainable params: 520\n",
      "_________________________________________________________________\n"
     ]
    }
   ],
   "source": [
    "model.layers[1].summary()"
   ]
  },
  {
   "cell_type": "markdown",
   "metadata": {},
   "source": [
    "# GRU VAE"
   ]
  },
  {
   "cell_type": "code",
   "execution_count": 18,
   "metadata": {},
   "outputs": [
    {
     "name": "stdout",
     "output_type": "stream",
     "text": [
      "Using GPU\n",
      "Input shape: [None, 4, 96]\n"
     ]
    },
    {
     "ename": "NameError",
     "evalue": "name 'X_train' is not defined",
     "output_type": "error",
     "traceback": [
      "\u001b[1;31m---------------------------------------------------------------------------\u001b[0m",
      "\u001b[1;31mNameError\u001b[0m                                 Traceback (most recent call last)",
      "\u001b[1;32m<ipython-input-18-40177e703160>\u001b[0m in \u001b[0;36m<module>\u001b[1;34m()\u001b[0m\n\u001b[0;32m    123\u001b[0m     \u001b[0mTensorBoard\u001b[0m\u001b[1;33m(\u001b[0m\u001b[0mlog_dir\u001b[0m\u001b[1;33m=\u001b[0m\u001b[0mtb_log_dir\u001b[0m\u001b[1;33m,\u001b[0m \u001b[0mwrite_graph\u001b[0m\u001b[1;33m=\u001b[0m\u001b[1;32mFalse\u001b[0m\u001b[1;33m)\u001b[0m\u001b[1;33m,\u001b[0m\u001b[1;33m\u001b[0m\u001b[0m\n\u001b[0;32m    124\u001b[0m     \u001b[0mModelCheckpoint\u001b[0m\u001b[1;33m(\u001b[0m\u001b[0msave_path\u001b[0m \u001b[1;33m+\u001b[0m \u001b[1;34m'checkpoint-{epoch:02d}-{val_loss:.4f}.mdl'\u001b[0m\u001b[1;33m,\u001b[0m \u001b[0mmonitor\u001b[0m\u001b[1;33m=\u001b[0m\u001b[1;34m'val_loss'\u001b[0m\u001b[1;33m,\u001b[0m \u001b[0msave_best_only\u001b[0m\u001b[1;33m=\u001b[0m\u001b[1;32mTrue\u001b[0m\u001b[1;33m)\u001b[0m\u001b[1;33m,\u001b[0m\u001b[1;33m\u001b[0m\u001b[0m\n\u001b[1;32m--> 125\u001b[1;33m     \u001b[0mCyclicLR\u001b[0m\u001b[1;33m(\u001b[0m\u001b[0mbase_lr\u001b[0m\u001b[1;33m=\u001b[0m\u001b[1;36m1e-4\u001b[0m\u001b[1;33m,\u001b[0m \u001b[0mmax_lr\u001b[0m\u001b[1;33m=\u001b[0m\u001b[1;36m1e-3\u001b[0m\u001b[1;33m,\u001b[0m \u001b[0mstep_size\u001b[0m\u001b[1;33m=\u001b[0m\u001b[1;36m4\u001b[0m \u001b[1;33m*\u001b[0m \u001b[0miter_per_epoch\u001b[0m\u001b[1;33m(\u001b[0m\u001b[0mX_train\u001b[0m\u001b[1;33m.\u001b[0m\u001b[0mshape\u001b[0m\u001b[1;33m[\u001b[0m\u001b[1;36m0\u001b[0m\u001b[1;33m]\u001b[0m\u001b[1;33m,\u001b[0m \u001b[0mBATCH_SIZE\u001b[0m\u001b[1;33m)\u001b[0m\u001b[1;33m)\u001b[0m\u001b[1;33m,\u001b[0m \u001b[1;31m# adam\u001b[0m\u001b[1;33m\u001b[0m\u001b[0m\n\u001b[0m\u001b[0;32m    126\u001b[0m \u001b[1;31m#     CyclicLR(base_lr=1e-3, max_lr=1e-2, step_size=2000),\u001b[0m\u001b[1;33m\u001b[0m\u001b[1;33m\u001b[0m\u001b[0m\n\u001b[0;32m    127\u001b[0m \u001b[1;31m#     OneCycleLR(max_lr=.01, verbose=False)\u001b[0m\u001b[1;33m\u001b[0m\u001b[1;33m\u001b[0m\u001b[0m\n",
      "\u001b[1;31mNameError\u001b[0m: name 'X_train' is not defined"
     ]
    }
   ],
   "source": [
    "import keras.backend as K\n",
    "\n",
    "BATCH_SIZE = 64\n",
    "LATENT_SIZE = 128\n",
    "\n",
    "NAME = 'ConvVAE_GRU'\n",
    "\n",
    "from keras.models import Sequential, Model, load_model, save_model\n",
    "from keras.layers import Input, Dense, Reshape, Flatten, Dropout, Activation, Lambda, Permute\n",
    "from keras.layers import Conv2D, MaxPool2D, BatchNormalization, TimeDistributed, CuDNNGRU, GRU, LSTM\n",
    "\n",
    "from keras.optimizers import Adam, SGD\n",
    "\n",
    "from keras_tqdm import TQDMNotebookCallback\n",
    "from keras.callbacks import TensorBoard, ModelCheckpoint\n",
    "from keras import objectives\n",
    "\n",
    "from keras_cyclic_lr import CyclicLR\n",
    "from keras_1cycle import OneCycleLR\n",
    "from custom_layers import KLDivergenceLayer\n",
    "from signalStopping import SignalHandler\n",
    "\n",
    "def sampling(args):\n",
    "    z_mean, z_log_var = args\n",
    "    shape = K.shape(z_mean)\n",
    "    epsilon = K.random_normal(shape=shape, mean=0, stddev=1)\n",
    "    return z_mean + K.exp(.5 * z_log_var) * epsilon\n",
    "\n",
    "def nll(y_true, y_pred):\n",
    "    \"\"\" Negative log likelihood (Bernoulli). \"\"\"\n",
    "\n",
    "    # keras.losses.binary_crossentropy gives the mean\n",
    "    # over the last axis. we require the sum\n",
    "    return K.sum(K.binary_crossentropy(y_true, y_pred), axis=-1)\n",
    "\n",
    "def expand_dims(x):\n",
    "    return K.expand_dims(x, -1)\n",
    "\n",
    "if len(K.tensorflow_backend._get_available_gpus()) > 0:\n",
    "    print('Using GPU')\n",
    "\n",
    "INPUT_SHAPE = [None, len(LEARNING_DRUM_MAP), WINDOW_SIZE]\n",
    "\n",
    "do_params = dict(\n",
    "    layer_1=.2,\n",
    "    layer_2=.2,\n",
    ")\n",
    "\n",
    "general_params = dict(\n",
    "    kernel_initializer='he_normal',\n",
    ")\n",
    "\n",
    "verbose = True\n",
    "\n",
    "if verbose: print('Input shape:', INPUT_SHAPE)\n",
    "    \n",
    "K.clear_session()\n",
    "\n",
    "# Inputs\n",
    "input_ = Input(shape=INPUT_SHAPE)\n",
    "\n",
    "input_ = Input(shape=INPUT_SHAPE)\n",
    "add_channel = Lambda(expand_dims)(input_)\n",
    "\n",
    "# Conv Part\n",
    "conv_1 = TimeDistributed(Conv2D(4, (4, 1), strides=(1, 1), padding='same', name='conv_1', **general_params))(add_channel)\n",
    "conv_1 = BatchNormalization()(conv_1)\n",
    "conv_1 = Activation('elu')(conv_1)\n",
    "\n",
    "# conv_1 = MaxPool2D((4, 1), strides=(1, 1), padding='same')(conv_1)\n",
    "\n",
    "flatten_input = TimeDistributed(Flatten(name='flatten_input'))(conv_1)\n",
    "\n",
    "encoder_1 = Dense(256, name='encoder_1', **general_params)(flatten_input)\n",
    "encoder_1 = BatchNormalization()(encoder_1)\n",
    "encoder_1 = Activation('elu')(encoder_1)\n",
    "\n",
    "encoder_1 = Dropout(do_params['layer_1'])(encoder_1)\n",
    "\n",
    "## VAE part\n",
    "mu = Dense(LATENT_SIZE, activation='linear', **general_params)(encoder_1)\n",
    "log_var = Dense(LATENT_SIZE, activation='linear', **general_params)(encoder_1)\n",
    "\n",
    "mu, log_var = KLDivergenceLayer(.005)([mu, log_var])\n",
    "\n",
    "# Sample z ~ Q(z|X)\n",
    "z = Lambda(sampling)([mu, log_var])\n",
    "\n",
    "z_gru = GRU(128, return_sequences=True, **general_params)(z)\n",
    "\n",
    "encoder = Model(inputs=input_, outputs=z_gru)\n",
    "\n",
    "decoder_1 = Dense(256, name='decoder_1', **general_params)(z_gru)\n",
    "decoder_1 = BatchNormalization()(decoder_1)\n",
    "decoder_1 = Activation('elu')(decoder_1)\n",
    "decoder_1 = Dropout(do_params['layer_2'])(decoder_1)\n",
    "\n",
    "output_flat = Dense(np.product(INPUT_SHAPE[1:]), activation='sigmoid', name='flat_output', **general_params)(decoder_1)\n",
    "output = TimeDistributed(Reshape(INPUT_SHAPE[1:], name='output'))(output_flat)\n",
    "\n",
    "model = Model(inputs=input_, outputs=output)\n",
    "\n",
    "optimizers = dict(\n",
    "    adam=Adam(lr=3e-4, decay=0),\n",
    "    sgd=SGD(lr=1e-2, momentum=0.95, nesterov=True),\n",
    ")\n",
    "\n",
    "model.compile(\n",
    "    optimizer=optimizers['adam'],\n",
    "    loss=nll,\n",
    "    metrics=['mse', 'mae']\n",
    ")\n",
    "\n",
    "tb_log_dir = './tb_logs/{}/{}'.format(NAME, now(\"%Y-%m-%d %H_%M\"))\n",
    "save_path = './_checkpoints/'\n",
    "\n",
    "purge_directory(save_path)\n",
    "\n",
    "callbacks = [\n",
    "    SignalHandler(),\n",
    "    TQDMNotebookCallback(),\n",
    "    TensorBoard(log_dir=tb_log_dir, write_graph=False),\n",
    "    ModelCheckpoint(save_path + 'checkpoint-{epoch:02d}-{val_loss:.4f}.mdl', monitor='val_loss', save_best_only=True),\n",
    "    CyclicLR(base_lr=1e-4, max_lr=1e-3, step_size=4 * iter_per_epoch(X_train.shape[0], BATCH_SIZE)), # adam\n",
    "#     CyclicLR(base_lr=1e-3, max_lr=1e-2, step_size=2000),\n",
    "#     OneCycleLR(max_lr=.01, verbose=False)\n",
    "]\n",
    "\n",
    "# history = model.fit(X_train, y_train, \n",
    "#                     batch_size=BATCH_SIZE, epochs=128,\n",
    "#                     validation_split=.1, shuffle=True,\n",
    "#                     verbose=0, callbacks=callbacks)\n",
    "\n",
    "# res = model.evaluate(X_test, y_test, verbose=0)\n",
    "\n",
    "# msg = 'Done! Loss: {}, MSE: {}, MAE: {}'.format(*res)\n",
    "\n",
    "# TelegramBot().send(msg)\n",
    "# print(msg)"
   ]
  },
  {
   "cell_type": "markdown",
   "metadata": {},
   "source": [
    "### LRFinder "
   ]
  },
  {
   "cell_type": "code",
   "execution_count": 20,
   "metadata": {
    "scrolled": true
   },
   "outputs": [
    {
     "data": {
      "application/vnd.jupyter.widget-view+json": {
       "model_id": "b2459b37172e497093f9da08de44ba2a",
       "version_major": 2,
       "version_minor": 0
      },
      "text/plain": [
       "HBox(children=(IntProgress(value=0, description='Training', max=10, style=ProgressStyle(description_width='ini…"
      ]
     },
     "metadata": {},
     "output_type": "display_data"
    },
    {
     "data": {
      "application/vnd.jupyter.widget-view+json": {
       "model_id": "",
       "version_major": 2,
       "version_minor": 0
      },
      "text/plain": [
       "HBox(children=(IntProgress(value=0, description='Epoch 0', max=2237, style=ProgressStyle(description_width='in…"
      ]
     },
     "metadata": {},
     "output_type": "display_data"
    },
    {
     "data": {
      "application/vnd.jupyter.widget-view+json": {
       "model_id": "",
       "version_major": 2,
       "version_minor": 0
      },
      "text/plain": [
       "HBox(children=(IntProgress(value=0, description='Epoch 1', max=2237, style=ProgressStyle(description_width='in…"
      ]
     },
     "metadata": {},
     "output_type": "display_data"
    },
    {
     "data": {
      "application/vnd.jupyter.widget-view+json": {
       "model_id": "",
       "version_major": 2,
       "version_minor": 0
      },
      "text/plain": [
       "HBox(children=(IntProgress(value=0, description='Epoch 2', max=2237, style=ProgressStyle(description_width='in…"
      ]
     },
     "metadata": {},
     "output_type": "display_data"
    },
    {
     "data": {
      "application/vnd.jupyter.widget-view+json": {
       "model_id": "",
       "version_major": 2,
       "version_minor": 0
      },
      "text/plain": [
       "HBox(children=(IntProgress(value=0, description='Epoch 3', max=2237, style=ProgressStyle(description_width='in…"
      ]
     },
     "metadata": {},
     "output_type": "display_data"
    },
    {
     "data": {
      "application/vnd.jupyter.widget-view+json": {
       "model_id": "",
       "version_major": 2,
       "version_minor": 0
      },
      "text/plain": [
       "HBox(children=(IntProgress(value=0, description='Epoch 4', max=2237, style=ProgressStyle(description_width='in…"
      ]
     },
     "metadata": {},
     "output_type": "display_data"
    },
    {
     "data": {
      "application/vnd.jupyter.widget-view+json": {
       "model_id": "",
       "version_major": 2,
       "version_minor": 0
      },
      "text/plain": [
       "HBox(children=(IntProgress(value=0, description='Epoch 5', max=2237, style=ProgressStyle(description_width='in…"
      ]
     },
     "metadata": {},
     "output_type": "display_data"
    },
    {
     "data": {
      "application/vnd.jupyter.widget-view+json": {
       "model_id": "",
       "version_major": 2,
       "version_minor": 0
      },
      "text/plain": [
       "HBox(children=(IntProgress(value=0, description='Epoch 6', max=2237, style=ProgressStyle(description_width='in…"
      ]
     },
     "metadata": {},
     "output_type": "display_data"
    },
    {
     "data": {
      "application/vnd.jupyter.widget-view+json": {
       "model_id": "",
       "version_major": 2,
       "version_minor": 0
      },
      "text/plain": [
       "HBox(children=(IntProgress(value=0, description='Epoch 7', max=2237, style=ProgressStyle(description_width='in…"
      ]
     },
     "metadata": {},
     "output_type": "display_data"
    },
    {
     "data": {
      "application/vnd.jupyter.widget-view+json": {
       "model_id": "",
       "version_major": 2,
       "version_minor": 0
      },
      "text/plain": [
       "HBox(children=(IntProgress(value=0, description='Epoch 8', max=2237, style=ProgressStyle(description_width='in…"
      ]
     },
     "metadata": {},
     "output_type": "display_data"
    },
    {
     "data": {
      "application/vnd.jupyter.widget-view+json": {
       "model_id": "",
       "version_major": 2,
       "version_minor": 0
      },
      "text/plain": [
       "HBox(children=(IntProgress(value=0, description='Epoch 9', max=2237, style=ProgressStyle(description_width='in…"
      ]
     },
     "metadata": {},
     "output_type": "display_data"
    },
    {
     "name": "stdout",
     "output_type": "stream",
     "text": [
      "\n"
     ]
    }
   ],
   "source": [
    "from keras_lr_finder import LRFinder\n",
    "\n",
    "lr_finder = LRFinder(model)\n",
    "\n",
    "lr_finder.find(X_train, y_train, start_lr=1e-8, end_lr=5, batch_size=BATCH_SIZE, epochs=10, verbose=0, callbacks=[TQDMNotebookCallback()])"
   ]
  },
  {
   "cell_type": "code",
   "execution_count": 44,
   "metadata": {},
   "outputs": [
    {
     "data": {
      "image/png": "[encoded data removed]",
      "text/plain": [
       "<Figure size 432x288 with 1 Axes>"
      ]
     },
     "metadata": {
      "needs_background": "light"
     },
     "output_type": "display_data"
    }
   ],
   "source": [
    "x = lr_finder.lrs\n",
    "y = lr_finder.losses\n",
    "\n",
    "y_sm = smooth(y, .95)\n",
    "\n",
    "plt.plot(x, y_sm)\n",
    "plt.xscale('log')"
   ]
  },
  {
   "cell_type": "code",
   "execution_count": 36,
   "metadata": {},
   "outputs": [
    {
     "data": {
      "image/png": "[encoded data removed]",
      "text/plain": [
       "<Figure size 432x288 with 1 Axes>"
      ]
     },
     "metadata": {
      "needs_background": "light"
     },
     "output_type": "display_data"
    }
   ],
   "source": [
    "lr_finder.plot_loss(n_skip_beginning=0, n_skip_end=2)\n",
    "# plt.ylim(-1e4, 1e5)"
   ]
  },
  {
   "cell_type": "markdown",
   "metadata": {},
   "source": [
    "## Saver"
   ]
  },
  {
   "cell_type": "code",
   "execution_count": 52,
   "metadata": {},
   "outputs": [],
   "source": [
    "from keras.models import save_model\n",
    "\n",
    "save_model(model, f'./models/{NAME}_mse_00231.mdl')"
   ]
  },
  {
   "cell_type": "markdown",
   "metadata": {},
   "source": [
    "## Loader "
   ]
  },
  {
   "cell_type": "code",
   "execution_count": 55,
   "metadata": {},
   "outputs": [
    {
     "name": "stdout",
     "output_type": "stream",
     "text": [
      "(None, None, 128)\n"
     ]
    }
   ],
   "source": [
    "decoder = build_intermediate_model(model, start_layer_index=-7)"
   ]
  },
  {
   "cell_type": "code",
   "execution_count": 19,
   "metadata": {
    "scrolled": true
   },
   "outputs": [],
   "source": [
    "import keras.backend as K\n",
    "\n",
    "from keras.models import load_model\n",
    "from custom_layers import KLDivergenceLayer\n",
    "\n",
    "def nll(y_true, y_pred):\n",
    "    \"\"\" Negative log likelihood (Bernoulli). \"\"\"\n",
    "\n",
    "    # keras.losses.binary_crossentropy gives the mean\n",
    "    # over the last axis. we require the sum\n",
    "    return K.sum(K.binary_crossentropy(y_true, y_pred), axis=-1)\n",
    "\n",
    "# K.clear_session()\n",
    "\n",
    "model_old = load_model('./models/ConvVAE_GRU_mse_00231.mdl', custom_objects=dict(KLDivergenceLayer=KLDivergenceLayer, nll=nll))\n",
    "# encoder = get_encoder(model, -2)\n",
    "# decoder = build_intermediate_model(model, start_layer_index=-1)"
   ]
  },
  {
   "cell_type": "markdown",
   "metadata": {},
   "source": [
    "# Test Models"
   ]
  },
  {
   "cell_type": "code",
   "execution_count": 44,
   "metadata": {
    "scrolled": false
   },
   "outputs": [
    {
     "data": {
      "image/png": "[encoded data removed]",
      "text/plain": [
       "<Figure size 432x288 with 1 Axes>"
      ]
     },
     "metadata": {
      "needs_background": "light"
     },
     "output_type": "display_data"
    },
    {
     "data": {
      "image/png": "[encoded data removed]",
      "text/plain": [
       "<Figure size 432x288 with 1 Axes>"
      ]
     },
     "metadata": {
      "needs_background": "light"
     },
     "output_type": "display_data"
    },
    {
     "data": {
      "image/png": "[encoded data removed]",
      "text/plain": [
       "<Figure size 432x288 with 1 Axes>"
      ]
     },
     "metadata": {
      "needs_background": "light"
     },
     "output_type": "display_data"
    }
   ],
   "source": [
    "def test_AE(sample, model, save=True, save_orig_name='orig.mid', threshold=.99, decoding=False, sequence=False):\n",
    "    deco = lambda x: np.hstack(x) if sequence else dummy(x)\n",
    "    if not decoding:\n",
    "        plot_learn_seq(deco(sample), LEARNING_DRUM_MAP)\n",
    "        plt.title('input')\n",
    "        plt.show()\n",
    "    \n",
    "        if save: save_drum_track(learn_seq_to_midi(deco(sample), LEARNING_DRUM_MAP), name=save_orig_name)\n",
    "\n",
    "    try:\n",
    "        predict = model.predict(sample)[0]\n",
    "    except ValueError:\n",
    "        predict = model.predict(np.array([sample]))[0]\n",
    "    \n",
    "    plot_learn_seq(deco(predict), LEARNING_DRUM_MAP)\n",
    "    plt.title('Predict')\n",
    "    plt.show()\n",
    "\n",
    "    predict_cut = binarize_array(threshold_array(deco(predict), threshold=threshold))\n",
    "\n",
    "    if save: save_drum_track(learn_seq_to_midi(predict_cut, LEARNING_DRUM_MAP))\n",
    "\n",
    "    plot_learn_seq(predict_cut, LEARNING_DRUM_MAP)\n",
    "    plt.title('Cut')\n",
    "    plt.show()\n",
    "    \n",
    "x_test = np.array(X_test[16])\n",
    "\n",
    "# x_test[:, 96 // 2:] = binarize_array(threshold_array(np.random.rand(4, 96 // 2), .5))\n",
    "\n",
    "test_AE(x_test, model, decoding=False, threshold=.5, sequence=True)"
   ]
  },
  {
   "cell_type": "code",
   "execution_count": 80,
   "metadata": {
    "scrolled": false
   },
   "outputs": [
    {
     "data": {
      "image/png": "[encoded data removed]",
      "text/plain": [
       "<Figure size 432x288 with 1 Axes>"
      ]
     },
     "metadata": {
      "needs_background": "light"
     },
     "output_type": "display_data"
    },
    {
     "data": {
      "image/png": "[encoded data removed]",
      "text/plain": [
       "<Figure size 432x288 with 1 Axes>"
      ]
     },
     "metadata": {
      "needs_background": "light"
     },
     "output_type": "display_data"
    }
   ],
   "source": [
    "shape = (10, 128)\n",
    "seed = threshold_array(np.random.rand(*shape), .0)\n",
    "# seed = np.ones(shape)\n",
    "\n",
    "test_AE(seed, decoder, decoding=True, threshold=.04, sequence=True)"
   ]
  },
  {
   "cell_type": "code",
   "execution_count": 11,
   "metadata": {},
   "outputs": [],
   "source": [
    "def generate_random_song(decoder, bars, threshold=.5):\n",
    "    rand_predict = decoder.predict(np.random.rand(bars, decoder.input_shape[1]))\n",
    "    return binarize_array(threshold_array(rand_predict, threshold))\n",
    "\n",
    "song = generate_random_song(decoder, 8, .5)\n",
    "\n",
    "song = np.hstack(song)\n",
    "\n",
    "track = learn_seq_to_midi(song, LEARNING_DRUM_MAP)\n",
    "\n",
    "save_drum_track(track, name='generated_song.mid')"
   ]
  },
  {
   "cell_type": "markdown",
   "metadata": {},
   "source": [
    "# Vis plz "
   ]
  },
  {
   "cell_type": "code",
   "execution_count": 23,
   "metadata": {
    "scrolled": true
   },
   "outputs": [
    {
     "name": "stdout",
     "output_type": "stream",
     "text": [
      "conv_1 is not one of the layer names..\n"
     ]
    },
    {
     "ename": "KeyError",
     "evalue": "'conv_1'",
     "output_type": "error",
     "traceback": [
      "\u001b[1;31m---------------------------------------------------------------------------\u001b[0m",
      "\u001b[1;31mKeyError\u001b[0m                                  Traceback (most recent call last)",
      "\u001b[1;32m<ipython-input-23-5ce567e6ddbf>\u001b[0m in \u001b[0;36m<module>\u001b[1;34m\u001b[0m\n\u001b[0;32m     13\u001b[0m                                   \u001b[0mlayer_names\u001b[0m\u001b[1;33m,\u001b[0m\u001b[1;33m\u001b[0m\u001b[1;33m\u001b[0m\u001b[0m\n\u001b[0;32m     14\u001b[0m                                   \u001b[0mlayer_dict\u001b[0m\u001b[1;33m,\u001b[0m\u001b[1;33m\u001b[0m\u001b[1;33m\u001b[0m\u001b[0m\n\u001b[1;32m---> 15\u001b[1;33m                                   max_nfmap, model, n_iter=100)\n\u001b[0m\u001b[0;32m     16\u001b[0m \u001b[1;33m\u001b[0m\u001b[0m\n\u001b[0;32m     17\u001b[0m \u001b[0mvisualizer\u001b[0m\u001b[1;33m.\u001b[0m\u001b[0mplot_images_wrapper\u001b[0m\u001b[1;33m(\u001b[0m\u001b[0margimage\u001b[0m\u001b[1;33m,\u001b[0m \u001b[0mscale\u001b[0m\u001b[1;33m=\u001b[0m\u001b[1;36m10\u001b[0m\u001b[1;33m)\u001b[0m\u001b[1;33m\u001b[0m\u001b[1;33m\u001b[0m\u001b[0m\n",
      "\u001b[1;32m~\\Desktop\\ipy\\Drummer\\conv_visualizer.py\u001b[0m in \u001b[0;36mfind_images\u001b[1;34m(self, input_img, layer_names, layer_dict, max_nfmap, model, picorig, n_iter)\u001b[0m\n\u001b[0;32m    123\u001b[0m         \u001b[1;32mfor\u001b[0m \u001b[0mlayer_name\u001b[0m \u001b[1;32min\u001b[0m \u001b[0mlayer_names\u001b[0m\u001b[1;33m:\u001b[0m \u001b[1;31m## the layer to visualize\u001b[0m\u001b[1;33m\u001b[0m\u001b[1;33m\u001b[0m\u001b[0m\n\u001b[0;32m    124\u001b[0m             \u001b[0mn_fmap\u001b[0m \u001b[1;33m=\u001b[0m \u001b[0mself\u001b[0m\u001b[1;33m.\u001b[0m\u001b[0mfind_n_feature_map\u001b[0m\u001b[1;33m(\u001b[0m\u001b[0mlayer_name\u001b[0m\u001b[1;33m,\u001b[0m\u001b[0mmax_nfmap\u001b[0m\u001b[1;33m,\u001b[0m\u001b[0mmodel\u001b[0m\u001b[1;33m)\u001b[0m\u001b[1;33m\u001b[0m\u001b[1;33m\u001b[0m\u001b[0m\n\u001b[1;32m--> 125\u001b[1;33m             \u001b[0mlayer_output\u001b[0m \u001b[1;33m=\u001b[0m \u001b[0mlayer_dict\u001b[0m\u001b[1;33m[\u001b[0m\u001b[0mlayer_name\u001b[0m\u001b[1;33m]\u001b[0m\u001b[1;33m.\u001b[0m\u001b[0moutput\u001b[0m\u001b[1;33m\u001b[0m\u001b[1;33m\u001b[0m\u001b[0m\n\u001b[0m\u001b[0;32m    126\u001b[0m             result = self.find_images_for_layer(input_img,\n\u001b[0;32m    127\u001b[0m                                                 \u001b[0mlayer_output\u001b[0m\u001b[1;33m,\u001b[0m\u001b[1;33m\u001b[0m\u001b[1;33m\u001b[0m\u001b[0m\n",
      "\u001b[1;31mKeyError\u001b[0m: 'conv_1'"
     ]
    }
   ],
   "source": [
    "from conv_visualizer import VisualizeImageMaximizeFmap\n",
    "\n",
    "layer_dict = {layer.name: layer for layer in model.layers}\n",
    "\n",
    "layer_names = [\"conv_1\"]\n",
    "\n",
    "input_img = model.layers[0].input\n",
    "\n",
    "visualizer = VisualizeImageMaximizeFmap(pic_shape = (4, 96, 1))\n",
    "\n",
    "max_nfmap = 8\n",
    "argimage = visualizer.find_images(input_img,\n",
    "                                  layer_names,\n",
    "                                  layer_dict, \n",
    "                                  max_nfmap, model, n_iter=100)\n",
    "\n",
    "visualizer.plot_images_wrapper(argimage, scale=10)"
   ]
  },
  {
   "cell_type": "markdown",
   "metadata": {},
   "source": [
    "# PCA "
   ]
  },
  {
   "cell_type": "code",
   "execution_count": 24,
   "metadata": {},
   "outputs": [],
   "source": [
    "def make_pca(X):\n",
    "    means = np.mean(X, axis=0)\n",
    "    stds = np.std(X, axis=0)\n",
    "    cov_mat = np.cov(X - means, rowvar=False, bias=True)\n",
    "    _, S, V = np.linalg.svd(cov_mat)\n",
    "    eig_vals = np.sqrt(S)\n",
    "    \n",
    "    return dict(\n",
    "        means=means,\n",
    "        stds=stds,\n",
    "        eig_vals=eig_vals,\n",
    "        eig_vecs=V,\n",
    "    )\n",
    "\n",
    "encoded = encoder.predict(X_train)\n",
    "\n",
    "pca_res = make_pca(encoded)"
   ]
  },
  {
   "cell_type": "code",
   "execution_count": 23,
   "metadata": {},
   "outputs": [
    {
     "data": {
      "text/plain": [
       "array([2, 1, 0], dtype=int64)"
      ]
     },
     "execution_count": 23,
     "metadata": {},
     "output_type": "execute_result"
    }
   ],
   "source": [
    "in_top_k(pca_res['eig_vals'], 3)"
   ]
  },
  {
   "cell_type": "code",
   "execution_count": null,
   "metadata": {},
   "outputs": [],
   "source": [
    "from plots import plot_ly_3D\n",
    "\n",
    "best_eig = encoded[:, in_top_k(pca_res['eig_vals'], 3)]\n",
    "\n",
    "X, Y, Z = best_eig[:1000].T\n",
    "\n",
    "plot_ly_3D(X, Y, Z)\n"
   ]
  },
  {
   "cell_type": "markdown",
   "metadata": {},
   "source": [
    "# Trash"
   ]
  },
  {
   "cell_type": "code",
   "execution_count": 59,
   "metadata": {},
   "outputs": [
    {
     "name": "stdout",
     "output_type": "stream",
     "text": [
      "(None, 4, 96)\n",
      "(None, 96, 4)\n",
      "(None, 96, 200)\n"
     ]
    }
   ],
   "source": [
    "1/0\n",
    "\n",
    "import keras.backend as K\n",
    "\n",
    "BATCH_SIZE = 256 # 128\n",
    "LATENT_SIZE = 128\n",
    "\n",
    "VAE_PARAM_1 = .2 # .02\n",
    "VAE_PARAM_2 = .01\n",
    "\n",
    "from keras.models import Sequential, Model, load_model, save_model\n",
    "from keras.layers import Input, Dense, TimeDistributed, Reshape, Permute, Flatten, Dropout, Activation, Lambda\n",
    "from keras.layers import Conv2D, MaxPool2D, BatchNormalization\n",
    "from keras.optimizers import Adam\n",
    "from keras_tqdm import TQDMNotebookCallback\n",
    "from keras.utils import plot_model\n",
    "from keras import objectives\n",
    "\n",
    "def sampling(args):\n",
    "    z_mean, z_log_var = args\n",
    "    shape = K.shape(z_mean)\n",
    "    epsilon = K.random_normal(shape=shape, mean=0, stddev=VAE_PARAM_1)\n",
    "    return z_mean + K.exp(.5 * z_log_var) * epsilon\n",
    "\n",
    "def vae_loss(y_true, y_pred):\n",
    "    recon = K.sum(objectives.binary_crossentropy(y_pred, y_true), axis=1)\n",
    "    kl = VAE_PARAM_2 * K.sum(K.exp(log_sigma) + K.square(mu) - 1. - log_sigma, axis=1)\n",
    "    return recon + kl\n",
    "\n",
    "if len(K.tensorflow_backend._get_available_gpus()) > 0:\n",
    "    print('Using GPU')\n",
    "\n",
    "INPUT_SHAPE = [len(LEARNING_DRUM_MAP), WINDOW_SIZE]\n",
    "\n",
    "do_params = dict(\n",
    "    layer_1=.2,\n",
    "    layer_2=.1,\n",
    "    layer_3=.2\n",
    ")\n",
    "\n",
    "verbose = True\n",
    "\n",
    "if verbose: print('Input shape:', INPUT_SHAPE)\n",
    "\n",
    "# Inputs\n",
    "input_ = Input(shape=INPUT_SHAPE)\n",
    "\n",
    "encoder = Sequential([\n",
    "    Reshape(target_shape=(*INPUT_SHAPE, 1)),\n",
    "    Conv2D(16, (4, 1), strides=(1, 1), padding='same', kernel_initializer='he_normal', name='conv_1'),\n",
    "#     BatchNormalization(momentum=.95),\n",
    "    Activation('elu'),\n",
    "    Flatten(name='flatten_input'),\n",
    "    Dense(256, activation='elu', name='encoder_1', kernel_initializer='he_normal'),\n",
    "    Dropout(do_params['layer_1'])\n",
    "])\n",
    "\n",
    "encoder_1 = encoder(input_)\n",
    "\n",
    "## VAE part\n",
    "mu = Dense(LATENT_SIZE, activation='linear', kernel_initializer='he_normal')(encoder_1)\n",
    "log_sigma = Dense(LATENT_SIZE, activation='linear', kernel_initializer='he_normal')(encoder_1)\n",
    "\n",
    "# Sample z ~ Q(z|X)\n",
    "z = Lambda(sampling, output_shape=(LATENT_SIZE,))([mu, log_sigma])\n",
    "\n",
    "decoder = Sequential([\n",
    "    Dense(256, activation='elu', name='decoder_2', kernel_initializer='he_normal'),\n",
    "    Dropout(do_params['layer_3']),\n",
    "    Dense(np.product(INPUT_SHAPE), activation='sigmoid', name='flat_output', kernel_initializer='he_normal'),\n",
    "    Reshape(INPUT_SHAPE, name='output'),\n",
    "])\n",
    "\n",
    "output = decoder(z)\n",
    "\n",
    "model = Model(inputs=input_, outputs=output)\n",
    "\n",
    "model.compile(\n",
    "    optimizer=Adam(lr=0.001, decay=10 ** -5),\n",
    "    loss=vae_loss,\n",
    "    metrics=['mse', 'mae']\n",
    ")\n",
    "\n",
    "history = model.fit(X_train, y_train, \n",
    "                    batch_size=BATCH_SIZE, epochs=8, \n",
    "                    validation_split=.1, shuffle=True,\n",
    "                    verbose=0, callbacks=[TQDMNotebookCallback()])\n",
    "\n",
    "res = model.evaluate(X_test, y_test, verbose=0)\n",
    "\n",
    "msg = 'Done! Loss: {}, MSE: {}, MAE: {}'.format(*res)\n",
    "\n",
    "TelegramBot().send(msg)\n",
    "print(msg)\n",
    "\n",
    "\n",
    "import keras.backend as K\n",
    "\n",
    "BATCH_SIZE = 256 # 128\n",
    "LATENT_SIZE = 128\n",
    "\n",
    "VAE_PARAM_1 = 1 # .02\n",
    "VAE_PARAM_2 = .01\n",
    "\n",
    "from keras.models import Sequential, Model\n",
    "from keras.layers import Input, Dense, TimeDistributed, Reshape, Permute, Flatten, Dropout, Activation, Lambda\n",
    "from keras.layers import Conv2D, MaxPool2D, BatchNormalization\n",
    "from keras.optimizers import Adam\n",
    "from keras_tqdm import TQDMNotebookCallback\n",
    "from keras.utils import plot_model\n",
    "from keras import objectives\n",
    "\n",
    "def sampling(args):\n",
    "    z_mean, z_log_var = args\n",
    "    shape = K.shape(z_mean)\n",
    "    epsilon = K.random_normal(shape=shape, mean=0, stddev=VAE_PARAM_1)\n",
    "    return z_mean + K.exp(.5 * z_log_var) * epsilon\n",
    "\n",
    "def vae_loss(y_true, y_pred):\n",
    "    recon = K.sum(objectives.binary_crossentropy(y_pred, y_true), axis=1)\n",
    "    kl = VAE_PARAM_2 * K.sum(K.exp(log_sigma) + K.square(mu) - 1. - log_sigma, axis=1)\n",
    "    return recon + kl\n",
    "\n",
    "if len(K.tensorflow_backend._get_available_gpus()) > 0:\n",
    "    print('Using GPU')\n",
    "\n",
    "INPUT_SHAPE = [len(LEARNING_DRUM_MAP), WINDOW_SIZE]\n",
    "\n",
    "do_params = dict(\n",
    "    layer_1=.1,\n",
    "    layer_2=.1,\n",
    "    layer_3=.1\n",
    ")\n",
    "\n",
    "verbose = True\n",
    "\n",
    "if verbose: print('Input shape:', INPUT_SHAPE)\n",
    "\n",
    "# Inputs\n",
    "input_ = Input(shape=INPUT_SHAPE)\n",
    "add_channel = Reshape(target_shape=(*INPUT_SHAPE, 1))(input_)\n",
    "\n",
    "# Conv Part\n",
    "conv_1 = Conv2D(16, (4, 1), strides=(1, 1), padding='same', kernel_initializer='he_normal')(add_channel)\n",
    "# conv_1 = BatchNormalization(momentum=.95)(conv_1)\n",
    "conv_1 = Activation('elu')(conv_1)\n",
    "\n",
    "# max_pool_1 = MaxPool2D((2, 2), strides=(1, 1), padding='same')(conv_1)\n",
    "\n",
    "flatten_input = Flatten(name='flatten_input')(conv_1)\n",
    "\n",
    "encoder_1 = Dense(256, activation='elu', name='encoder_1', kernel_initializer='he_normal')(flatten_input)\n",
    "encoder_1 = Dropout(do_params['layer_1'])(encoder_1)\n",
    "    \n",
    "# encoder_2 = Dense(256, activation='elu', name='encoder_2')(encoder_1)\n",
    "# encoder_2 = Dropout(do_params['layer_1'])(encoder_2)\n",
    "\n",
    "## VAE part\n",
    "mu = Dense(LATENT_SIZE, activation='linear', kernel_initializer='he_normal')(encoder_1)\n",
    "log_sigma = Dense(LATENT_SIZE, activation='linear', kernel_initializer='he_normal')(encoder_1)\n",
    "\n",
    "# Sample z ~ Q(z|X)\n",
    "z = Lambda(sampling, output_shape=(LATENT_SIZE,))([mu, log_sigma])\n",
    "\n",
    "# decoder_1 = Dense(256, activation='elu', name='decoder_1')(z)\n",
    "# decoder_1 = Dropout(do_params['layer_3'])(decoder_1)\n",
    "\n",
    "decoder_2 = Dense(256, activation='elu', name='decoder_2', kernel_initializer='he_normal')(z)\n",
    "decoder_2 = Dropout(do_params['layer_3'])(decoder_2)\n",
    "\n",
    "flat_output = Dense(np.product(INPUT_SHAPE), activation='sigmoid', name='flat_output', kernel_initializer='he_normal')(decoder_2)\n",
    "output = Reshape(INPUT_SHAPE, name='output')(flat_output)\n",
    "\n",
    "model = Model(inputs=input_, outputs=output)\n",
    "\n",
    "# decoder = get_decoder(model, decoder_shape=(128,), decoder_layer=-4)\n",
    "\n",
    "model.compile(\n",
    "    optimizer=Adam(lr=0.001, decay=10 ** -5),\n",
    "    loss=vae_loss,\n",
    "    metrics=['mse', 'mae']\n",
    ")\n",
    "\n",
    "history = model.fit(X_train, y_train, \n",
    "                    batch_size=BATCH_SIZE, epochs=16, \n",
    "                    validation_split=.1, shuffle=True,\n",
    "                    verbose=0, callbacks=[TQDMNotebookCallback()])\n",
    "\n",
    "res = model.evaluate(X_test, y_test, verbose=0)\n",
    "\n",
    "msg = 'Done! Loss: {}, MSE: {}, MAE: {}'.format(*res)\n",
    "\n",
    "TelegramBot().send(msg)\n",
    "print(msg)\n",
    "\n",
    "import keras.backend as K\n",
    "\n",
    "from keras.models import Sequential, Model\n",
    "from keras.layers import Input, Dense, TimeDistributed, Reshape, Permute, Flatten\n",
    "\n",
    "INPUT_SHAPE = (len(LEARNING_DRUM_MAP), WINDOW_SIZE)\n",
    "\n",
    "verbose = True\n",
    "\n",
    "input_x = Input(shape=INPUT_SHAPE)\n",
    "\n",
    "if verbose: print(K.int_shape(input_x))\n",
    "\n",
    "# perm = input_x \n",
    "perm = Permute((2, 1))(input_x)\n",
    "# perm = Flatten()(input_x)\n",
    "\n",
    "if verbose: print(K.int_shape(perm))\n",
    "    \n",
    "encoder = TimeDistributed(Dense(200, activation='relu'))(perm)\n",
    "\n",
    "if verbose: print(K.int_shape(encoder))\n",
    "\n",
    "# model.compile('adam', loss='mse')\n",
    "\n",
    "# model.fit(X, X, batch_size=1, epochs=1)"
   ]
  }
 ],
 "metadata": {
  "kernelspec": {
   "display_name": "Python 3",
   "language": "python",
   "name": "python3"
  },
  "language_info": {
   "codemirror_mode": {
    "name": "ipython",
    "version": 3
   },
   "file_extension": ".py",
   "mimetype": "text/x-python",
   "name": "python",
   "nbconvert_exporter": "python",
   "pygments_lexer": "ipython3",
   "version": "3.6.6"
  },
  "toc": {
   "base_numbering": 1,
   "nav_menu": {},
   "number_sections": true,
   "sideBar": true,
   "skip_h1_title": false,
   "title_cell": "Table of Contents",
   "title_sidebar": "Contents",
   "toc_cell": false,
   "toc_position": {
    "height": "calc(100% - 180px)",
    "left": "10px",
    "top": "150px",
    "width": "174.275px"
   },
   "toc_section_display": true,
   "toc_window_display": true
  }
 },
 "nbformat": 4,
 "nbformat_minor": 2
}
